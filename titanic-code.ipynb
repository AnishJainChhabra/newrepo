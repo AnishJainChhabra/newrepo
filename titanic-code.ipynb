{
 "cells": [
  {
   "cell_type": "code",
   "execution_count": 1,
   "id": "cd609550",
   "metadata": {
    "_cell_guid": "b1076dfc-b9ad-4769-8c92-a6c4dae69d19",
    "_uuid": "8f2839f25d086af736a60e9eeb907d3b93b6e0e5",
    "execution": {
     "iopub.execute_input": "2022-07-14T11:36:14.077109Z",
     "iopub.status.busy": "2022-07-14T11:36:14.076232Z",
     "iopub.status.idle": "2022-07-14T11:36:14.090457Z",
     "shell.execute_reply": "2022-07-14T11:36:14.089440Z"
    },
    "papermill": {
     "duration": 0.028794,
     "end_time": "2022-07-14T11:36:14.093044",
     "exception": false,
     "start_time": "2022-07-14T11:36:14.064250",
     "status": "completed"
    },
    "tags": []
   },
   "outputs": [
    {
     "name": "stdout",
     "output_type": "stream",
     "text": [
      "/kaggle/input/titanic/train.csv\n",
      "/kaggle/input/titanic/test.csv\n",
      "/kaggle/input/titanic/gender_submission.csv\n"
     ]
    }
   ],
   "source": [
    "# This Python 3 environment comes with many helpful analytics libraries installed\n",
    "# It is defined by the kaggle/python Docker image: https://github.com/kaggle/docker-python\n",
    "# For example, here's several helpful packages to load\n",
    "\n",
    "import numpy as np # linear algebra\n",
    "import pandas as pd # data processing, CSV file I/O (e.g. pd.read_csv)\n",
    "\n",
    "# Input data files are available in the read-only \"../input/\" directory\n",
    "# For example, running this (by clicking run or pressing Shift+Enter) will list all files under the input directory\n",
    "\n",
    "import os\n",
    "for dirname, _, filenames in os.walk('/kaggle/input'):\n",
    "    for filename in filenames:\n",
    "        print(os.path.join(dirname, filename))\n",
    "\n",
    "# You can write up to 20GB to the current directory (/kaggle/working/) that gets preserved as output when you create a version using \"Save & Run All\" \n",
    "# You can also write temporary files to /kaggle/temp/, but they won't be saved outside of the current session"
   ]
  },
  {
   "cell_type": "code",
   "execution_count": 2,
   "id": "06de0e8d",
   "metadata": {
    "execution": {
     "iopub.execute_input": "2022-07-14T11:36:14.113020Z",
     "iopub.status.busy": "2022-07-14T11:36:14.112616Z",
     "iopub.status.idle": "2022-07-14T11:36:14.164044Z",
     "shell.execute_reply": "2022-07-14T11:36:14.162924Z"
    },
    "papermill": {
     "duration": 0.06406,
     "end_time": "2022-07-14T11:36:14.166543",
     "exception": false,
     "start_time": "2022-07-14T11:36:14.102483",
     "status": "completed"
    },
    "tags": []
   },
   "outputs": [
    {
     "data": {
      "text/html": [
       "<div>\n",
       "<style scoped>\n",
       "    .dataframe tbody tr th:only-of-type {\n",
       "        vertical-align: middle;\n",
       "    }\n",
       "\n",
       "    .dataframe tbody tr th {\n",
       "        vertical-align: top;\n",
       "    }\n",
       "\n",
       "    .dataframe thead th {\n",
       "        text-align: right;\n",
       "    }\n",
       "</style>\n",
       "<table border=\"1\" class=\"dataframe\">\n",
       "  <thead>\n",
       "    <tr style=\"text-align: right;\">\n",
       "      <th></th>\n",
       "      <th>PassengerId</th>\n",
       "      <th>Survived</th>\n",
       "      <th>Pclass</th>\n",
       "      <th>Name</th>\n",
       "      <th>Sex</th>\n",
       "      <th>Age</th>\n",
       "      <th>SibSp</th>\n",
       "      <th>Parch</th>\n",
       "      <th>Ticket</th>\n",
       "      <th>Fare</th>\n",
       "      <th>Cabin</th>\n",
       "      <th>Embarked</th>\n",
       "    </tr>\n",
       "  </thead>\n",
       "  <tbody>\n",
       "    <tr>\n",
       "      <th>0</th>\n",
       "      <td>1</td>\n",
       "      <td>0</td>\n",
       "      <td>3</td>\n",
       "      <td>Braund, Mr. Owen Harris</td>\n",
       "      <td>male</td>\n",
       "      <td>22.0</td>\n",
       "      <td>1</td>\n",
       "      <td>0</td>\n",
       "      <td>A/5 21171</td>\n",
       "      <td>7.2500</td>\n",
       "      <td>NaN</td>\n",
       "      <td>S</td>\n",
       "    </tr>\n",
       "    <tr>\n",
       "      <th>1</th>\n",
       "      <td>2</td>\n",
       "      <td>1</td>\n",
       "      <td>1</td>\n",
       "      <td>Cumings, Mrs. John Bradley (Florence Briggs Th...</td>\n",
       "      <td>female</td>\n",
       "      <td>38.0</td>\n",
       "      <td>1</td>\n",
       "      <td>0</td>\n",
       "      <td>PC 17599</td>\n",
       "      <td>71.2833</td>\n",
       "      <td>C85</td>\n",
       "      <td>C</td>\n",
       "    </tr>\n",
       "    <tr>\n",
       "      <th>2</th>\n",
       "      <td>3</td>\n",
       "      <td>1</td>\n",
       "      <td>3</td>\n",
       "      <td>Heikkinen, Miss. Laina</td>\n",
       "      <td>female</td>\n",
       "      <td>26.0</td>\n",
       "      <td>0</td>\n",
       "      <td>0</td>\n",
       "      <td>STON/O2. 3101282</td>\n",
       "      <td>7.9250</td>\n",
       "      <td>NaN</td>\n",
       "      <td>S</td>\n",
       "    </tr>\n",
       "    <tr>\n",
       "      <th>3</th>\n",
       "      <td>4</td>\n",
       "      <td>1</td>\n",
       "      <td>1</td>\n",
       "      <td>Futrelle, Mrs. Jacques Heath (Lily May Peel)</td>\n",
       "      <td>female</td>\n",
       "      <td>35.0</td>\n",
       "      <td>1</td>\n",
       "      <td>0</td>\n",
       "      <td>113803</td>\n",
       "      <td>53.1000</td>\n",
       "      <td>C123</td>\n",
       "      <td>S</td>\n",
       "    </tr>\n",
       "    <tr>\n",
       "      <th>4</th>\n",
       "      <td>5</td>\n",
       "      <td>0</td>\n",
       "      <td>3</td>\n",
       "      <td>Allen, Mr. William Henry</td>\n",
       "      <td>male</td>\n",
       "      <td>35.0</td>\n",
       "      <td>0</td>\n",
       "      <td>0</td>\n",
       "      <td>373450</td>\n",
       "      <td>8.0500</td>\n",
       "      <td>NaN</td>\n",
       "      <td>S</td>\n",
       "    </tr>\n",
       "  </tbody>\n",
       "</table>\n",
       "</div>"
      ],
      "text/plain": [
       "   PassengerId  Survived  Pclass  \\\n",
       "0            1         0       3   \n",
       "1            2         1       1   \n",
       "2            3         1       3   \n",
       "3            4         1       1   \n",
       "4            5         0       3   \n",
       "\n",
       "                                                Name     Sex   Age  SibSp  \\\n",
       "0                            Braund, Mr. Owen Harris    male  22.0      1   \n",
       "1  Cumings, Mrs. John Bradley (Florence Briggs Th...  female  38.0      1   \n",
       "2                             Heikkinen, Miss. Laina  female  26.0      0   \n",
       "3       Futrelle, Mrs. Jacques Heath (Lily May Peel)  female  35.0      1   \n",
       "4                           Allen, Mr. William Henry    male  35.0      0   \n",
       "\n",
       "   Parch            Ticket     Fare Cabin Embarked  \n",
       "0      0         A/5 21171   7.2500   NaN        S  \n",
       "1      0          PC 17599  71.2833   C85        C  \n",
       "2      0  STON/O2. 3101282   7.9250   NaN        S  \n",
       "3      0            113803  53.1000  C123        S  \n",
       "4      0            373450   8.0500   NaN        S  "
      ]
     },
     "execution_count": 2,
     "metadata": {},
     "output_type": "execute_result"
    }
   ],
   "source": [
    "import warnings\n",
    "warnings.filterwarnings('ignore')\n",
    "train_data = pd.read_csv('/kaggle/input/titanic/train.csv')\n",
    "train_data.head()"
   ]
  },
  {
   "cell_type": "code",
   "execution_count": 3,
   "id": "2a2f6ffa",
   "metadata": {
    "execution": {
     "iopub.execute_input": "2022-07-14T11:36:14.187348Z",
     "iopub.status.busy": "2022-07-14T11:36:14.186453Z",
     "iopub.status.idle": "2022-07-14T11:36:14.209096Z",
     "shell.execute_reply": "2022-07-14T11:36:14.208118Z"
    },
    "papermill": {
     "duration": 0.035029,
     "end_time": "2022-07-14T11:36:14.211094",
     "exception": false,
     "start_time": "2022-07-14T11:36:14.176065",
     "status": "completed"
    },
    "tags": []
   },
   "outputs": [
    {
     "data": {
      "text/html": [
       "<div>\n",
       "<style scoped>\n",
       "    .dataframe tbody tr th:only-of-type {\n",
       "        vertical-align: middle;\n",
       "    }\n",
       "\n",
       "    .dataframe tbody tr th {\n",
       "        vertical-align: top;\n",
       "    }\n",
       "\n",
       "    .dataframe thead th {\n",
       "        text-align: right;\n",
       "    }\n",
       "</style>\n",
       "<table border=\"1\" class=\"dataframe\">\n",
       "  <thead>\n",
       "    <tr style=\"text-align: right;\">\n",
       "      <th></th>\n",
       "      <th>PassengerId</th>\n",
       "      <th>Pclass</th>\n",
       "      <th>Name</th>\n",
       "      <th>Sex</th>\n",
       "      <th>Age</th>\n",
       "      <th>SibSp</th>\n",
       "      <th>Parch</th>\n",
       "      <th>Ticket</th>\n",
       "      <th>Fare</th>\n",
       "      <th>Cabin</th>\n",
       "      <th>Embarked</th>\n",
       "    </tr>\n",
       "  </thead>\n",
       "  <tbody>\n",
       "    <tr>\n",
       "      <th>0</th>\n",
       "      <td>892</td>\n",
       "      <td>3</td>\n",
       "      <td>Kelly, Mr. James</td>\n",
       "      <td>male</td>\n",
       "      <td>34.5</td>\n",
       "      <td>0</td>\n",
       "      <td>0</td>\n",
       "      <td>330911</td>\n",
       "      <td>7.8292</td>\n",
       "      <td>NaN</td>\n",
       "      <td>Q</td>\n",
       "    </tr>\n",
       "    <tr>\n",
       "      <th>1</th>\n",
       "      <td>893</td>\n",
       "      <td>3</td>\n",
       "      <td>Wilkes, Mrs. James (Ellen Needs)</td>\n",
       "      <td>female</td>\n",
       "      <td>47.0</td>\n",
       "      <td>1</td>\n",
       "      <td>0</td>\n",
       "      <td>363272</td>\n",
       "      <td>7.0000</td>\n",
       "      <td>NaN</td>\n",
       "      <td>S</td>\n",
       "    </tr>\n",
       "    <tr>\n",
       "      <th>2</th>\n",
       "      <td>894</td>\n",
       "      <td>2</td>\n",
       "      <td>Myles, Mr. Thomas Francis</td>\n",
       "      <td>male</td>\n",
       "      <td>62.0</td>\n",
       "      <td>0</td>\n",
       "      <td>0</td>\n",
       "      <td>240276</td>\n",
       "      <td>9.6875</td>\n",
       "      <td>NaN</td>\n",
       "      <td>Q</td>\n",
       "    </tr>\n",
       "    <tr>\n",
       "      <th>3</th>\n",
       "      <td>895</td>\n",
       "      <td>3</td>\n",
       "      <td>Wirz, Mr. Albert</td>\n",
       "      <td>male</td>\n",
       "      <td>27.0</td>\n",
       "      <td>0</td>\n",
       "      <td>0</td>\n",
       "      <td>315154</td>\n",
       "      <td>8.6625</td>\n",
       "      <td>NaN</td>\n",
       "      <td>S</td>\n",
       "    </tr>\n",
       "    <tr>\n",
       "      <th>4</th>\n",
       "      <td>896</td>\n",
       "      <td>3</td>\n",
       "      <td>Hirvonen, Mrs. Alexander (Helga E Lindqvist)</td>\n",
       "      <td>female</td>\n",
       "      <td>22.0</td>\n",
       "      <td>1</td>\n",
       "      <td>1</td>\n",
       "      <td>3101298</td>\n",
       "      <td>12.2875</td>\n",
       "      <td>NaN</td>\n",
       "      <td>S</td>\n",
       "    </tr>\n",
       "  </tbody>\n",
       "</table>\n",
       "</div>"
      ],
      "text/plain": [
       "   PassengerId  Pclass                                          Name     Sex  \\\n",
       "0          892       3                              Kelly, Mr. James    male   \n",
       "1          893       3              Wilkes, Mrs. James (Ellen Needs)  female   \n",
       "2          894       2                     Myles, Mr. Thomas Francis    male   \n",
       "3          895       3                              Wirz, Mr. Albert    male   \n",
       "4          896       3  Hirvonen, Mrs. Alexander (Helga E Lindqvist)  female   \n",
       "\n",
       "    Age  SibSp  Parch   Ticket     Fare Cabin Embarked  \n",
       "0  34.5      0      0   330911   7.8292   NaN        Q  \n",
       "1  47.0      1      0   363272   7.0000   NaN        S  \n",
       "2  62.0      0      0   240276   9.6875   NaN        Q  \n",
       "3  27.0      0      0   315154   8.6625   NaN        S  \n",
       "4  22.0      1      1  3101298  12.2875   NaN        S  "
      ]
     },
     "execution_count": 3,
     "metadata": {},
     "output_type": "execute_result"
    }
   ],
   "source": [
    "test_data = pd.read_csv(\"/kaggle/input/titanic/test.csv\")\n",
    "test_data.head()"
   ]
  },
  {
   "cell_type": "code",
   "execution_count": 4,
   "id": "cdd8b95d",
   "metadata": {
    "execution": {
     "iopub.execute_input": "2022-07-14T11:36:14.233315Z",
     "iopub.status.busy": "2022-07-14T11:36:14.232606Z",
     "iopub.status.idle": "2022-07-14T11:36:14.257921Z",
     "shell.execute_reply": "2022-07-14T11:36:14.256924Z"
    },
    "papermill": {
     "duration": 0.03969,
     "end_time": "2022-07-14T11:36:14.260836",
     "exception": false,
     "start_time": "2022-07-14T11:36:14.221146",
     "status": "completed"
    },
    "tags": []
   },
   "outputs": [
    {
     "name": "stdout",
     "output_type": "stream",
     "text": [
      "<class 'pandas.core.frame.DataFrame'>\n",
      "RangeIndex: 418 entries, 0 to 417\n",
      "Data columns (total 11 columns):\n",
      " #   Column       Non-Null Count  Dtype  \n",
      "---  ------       --------------  -----  \n",
      " 0   PassengerId  418 non-null    int64  \n",
      " 1   Pclass       418 non-null    int64  \n",
      " 2   Name         418 non-null    object \n",
      " 3   Sex          418 non-null    object \n",
      " 4   Age          332 non-null    float64\n",
      " 5   SibSp        418 non-null    int64  \n",
      " 6   Parch        418 non-null    int64  \n",
      " 7   Ticket       418 non-null    object \n",
      " 8   Fare         417 non-null    float64\n",
      " 9   Cabin        91 non-null     object \n",
      " 10  Embarked     418 non-null    object \n",
      "dtypes: float64(2), int64(4), object(5)\n",
      "memory usage: 36.0+ KB\n"
     ]
    }
   ],
   "source": [
    "test_data.info()"
   ]
  },
  {
   "cell_type": "code",
   "execution_count": 5,
   "id": "5e5ead2d",
   "metadata": {
    "execution": {
     "iopub.execute_input": "2022-07-14T11:36:14.283136Z",
     "iopub.status.busy": "2022-07-14T11:36:14.282381Z",
     "iopub.status.idle": "2022-07-14T11:36:14.288731Z",
     "shell.execute_reply": "2022-07-14T11:36:14.287797Z"
    },
    "papermill": {
     "duration": 0.019346,
     "end_time": "2022-07-14T11:36:14.290906",
     "exception": false,
     "start_time": "2022-07-14T11:36:14.271560",
     "status": "completed"
    },
    "tags": []
   },
   "outputs": [
    {
     "data": {
      "text/plain": [
       "(891, 12)"
      ]
     },
     "execution_count": 5,
     "metadata": {},
     "output_type": "execute_result"
    }
   ],
   "source": [
    "train_data.shape"
   ]
  },
  {
   "cell_type": "code",
   "execution_count": 6,
   "id": "25f31a32",
   "metadata": {
    "execution": {
     "iopub.execute_input": "2022-07-14T11:36:14.313234Z",
     "iopub.status.busy": "2022-07-14T11:36:14.312816Z",
     "iopub.status.idle": "2022-07-14T11:36:14.319463Z",
     "shell.execute_reply": "2022-07-14T11:36:14.318491Z"
    },
    "papermill": {
     "duration": 0.019609,
     "end_time": "2022-07-14T11:36:14.321299",
     "exception": false,
     "start_time": "2022-07-14T11:36:14.301690",
     "status": "completed"
    },
    "tags": []
   },
   "outputs": [
    {
     "data": {
      "text/plain": [
       "array([3, 1, 2])"
      ]
     },
     "execution_count": 6,
     "metadata": {},
     "output_type": "execute_result"
    }
   ],
   "source": [
    "train_data.Pclass.unique()"
   ]
  },
  {
   "cell_type": "code",
   "execution_count": 7,
   "id": "f654987f",
   "metadata": {
    "execution": {
     "iopub.execute_input": "2022-07-14T11:36:14.342807Z",
     "iopub.status.busy": "2022-07-14T11:36:14.342369Z",
     "iopub.status.idle": "2022-07-14T11:36:14.350236Z",
     "shell.execute_reply": "2022-07-14T11:36:14.349494Z"
    },
    "papermill": {
     "duration": 0.02053,
     "end_time": "2022-07-14T11:36:14.351997",
     "exception": false,
     "start_time": "2022-07-14T11:36:14.331467",
     "status": "completed"
    },
    "tags": []
   },
   "outputs": [
    {
     "data": {
      "text/plain": [
       "male      577\n",
       "female    314\n",
       "Name: Sex, dtype: int64"
      ]
     },
     "execution_count": 7,
     "metadata": {},
     "output_type": "execute_result"
    }
   ],
   "source": [
    "train_data.Sex.value_counts()"
   ]
  },
  {
   "cell_type": "code",
   "execution_count": 8,
   "id": "96844a62",
   "metadata": {
    "execution": {
     "iopub.execute_input": "2022-07-14T11:36:14.374070Z",
     "iopub.status.busy": "2022-07-14T11:36:14.373456Z",
     "iopub.status.idle": "2022-07-14T11:36:14.383279Z",
     "shell.execute_reply": "2022-07-14T11:36:14.382497Z"
    },
    "papermill": {
     "duration": 0.023078,
     "end_time": "2022-07-14T11:36:14.385196",
     "exception": false,
     "start_time": "2022-07-14T11:36:14.362118",
     "status": "completed"
    },
    "tags": []
   },
   "outputs": [
    {
     "data": {
      "text/plain": [
       "3    347\n",
       "1    122\n",
       "2    108\n",
       "Name: Pclass, dtype: int64"
      ]
     },
     "execution_count": 8,
     "metadata": {},
     "output_type": "execute_result"
    }
   ],
   "source": [
    "train_data[(train_data.Sex == 'male')].Pclass.value_counts()"
   ]
  },
  {
   "cell_type": "code",
   "execution_count": 9,
   "id": "4402d757",
   "metadata": {
    "execution": {
     "iopub.execute_input": "2022-07-14T11:36:14.407130Z",
     "iopub.status.busy": "2022-07-14T11:36:14.406530Z",
     "iopub.status.idle": "2022-07-14T11:36:14.414295Z",
     "shell.execute_reply": "2022-07-14T11:36:14.413645Z"
    },
    "papermill": {
     "duration": 0.021018,
     "end_time": "2022-07-14T11:36:14.416281",
     "exception": false,
     "start_time": "2022-07-14T11:36:14.395263",
     "status": "completed"
    },
    "tags": []
   },
   "outputs": [
    {
     "data": {
      "text/plain": [
       "3    144\n",
       "1     94\n",
       "2     76\n",
       "Name: Pclass, dtype: int64"
      ]
     },
     "execution_count": 9,
     "metadata": {},
     "output_type": "execute_result"
    }
   ],
   "source": [
    "train_data[train_data.Sex == 'female'].Pclass.value_counts()"
   ]
  },
  {
   "cell_type": "code",
   "execution_count": 10,
   "id": "a2c41697",
   "metadata": {
    "execution": {
     "iopub.execute_input": "2022-07-14T11:36:14.438064Z",
     "iopub.status.busy": "2022-07-14T11:36:14.437467Z",
     "iopub.status.idle": "2022-07-14T11:36:14.447996Z",
     "shell.execute_reply": "2022-07-14T11:36:14.447278Z"
    },
    "papermill": {
     "duration": 0.023372,
     "end_time": "2022-07-14T11:36:14.449687",
     "exception": false,
     "start_time": "2022-07-14T11:36:14.426315",
     "status": "completed"
    },
    "tags": []
   },
   "outputs": [
    {
     "data": {
      "text/plain": [
       "Sex     Pclass\n",
       "female  1         34.611765\n",
       "        2         28.722973\n",
       "        3         21.750000\n",
       "male    1         41.281386\n",
       "        2         30.740707\n",
       "        3         26.507589\n",
       "Name: Age, dtype: float64"
      ]
     },
     "execution_count": 10,
     "metadata": {},
     "output_type": "execute_result"
    }
   ],
   "source": [
    "age_train = train_data.groupby(['Sex','Pclass'])['Age'].mean()\n",
    "age_train"
   ]
  },
  {
   "cell_type": "code",
   "execution_count": 11,
   "id": "75f0e731",
   "metadata": {
    "execution": {
     "iopub.execute_input": "2022-07-14T11:36:14.471679Z",
     "iopub.status.busy": "2022-07-14T11:36:14.471083Z",
     "iopub.status.idle": "2022-07-14T11:36:14.490135Z",
     "shell.execute_reply": "2022-07-14T11:36:14.488894Z"
    },
    "papermill": {
     "duration": 0.033185,
     "end_time": "2022-07-14T11:36:14.492906",
     "exception": false,
     "start_time": "2022-07-14T11:36:14.459721",
     "status": "completed"
    },
    "tags": []
   },
   "outputs": [],
   "source": [
    "train_data['Age'][(train_data.Sex == 'male') & (train_data.Pclass == 3)] = np.where(np.isnan(train_data.Age[(train_data.Sex == 'male') & (train_data.Pclass == 3)]),\n",
    "                                                                                    age_train[5],train_data.Age[(train_data.Sex == 'male') & (train_data.Pclass == 3)])\n",
    "\n",
    "train_data['Age'][(train_data.Sex == 'male') & (train_data.Pclass == 2)] = np.where(np.isnan(train_data.Age[(train_data.Sex == 'male') & (train_data.Pclass == 2)]),\n",
    "                                                                                    age_train[4],train_data.Age[(train_data.Sex == 'male') & (train_data.Pclass == 2)])\n",
    "\n",
    "train_data['Age'][(train_data.Sex == 'male') & (train_data.Pclass == 1)] = np.where(np.isnan(train_data.Age[(train_data.Sex == 'male') & (train_data.Pclass == 1)]),\n",
    "                                                                                    age_train[3],train_data.Age[(train_data.Sex == 'male') & (train_data.Pclass == 1)])"
   ]
  },
  {
   "cell_type": "code",
   "execution_count": 12,
   "id": "4c774f02",
   "metadata": {
    "execution": {
     "iopub.execute_input": "2022-07-14T11:36:14.516056Z",
     "iopub.status.busy": "2022-07-14T11:36:14.515620Z",
     "iopub.status.idle": "2022-07-14T11:36:14.537013Z",
     "shell.execute_reply": "2022-07-14T11:36:14.535916Z"
    },
    "papermill": {
     "duration": 0.035988,
     "end_time": "2022-07-14T11:36:14.539309",
     "exception": false,
     "start_time": "2022-07-14T11:36:14.503321",
     "status": "completed"
    },
    "tags": []
   },
   "outputs": [],
   "source": [
    "train_data['Age'][(train_data.Sex == 'female') & (train_data.Pclass == 3)] = np.where(np.isnan(train_data.Age[(train_data.Sex == 'female') & (train_data.Pclass == 3)]),\n",
    "                                                                                    age_train[2],train_data.Age[(train_data.Sex == 'female') & (train_data.Pclass == 3)])\n",
    "\n",
    "train_data['Age'][(train_data.Sex == 'female') & (train_data.Pclass == 2)] = np.where(np.isnan(train_data.Age[(train_data.Sex == 'female') & (train_data.Pclass == 2)]),\n",
    "                                                                                    age_train[1],train_data.Age[(train_data.Sex == 'female') & (train_data.Pclass == 2)])\n",
    "\n",
    "train_data['Age'][(train_data.Sex == 'female') & (train_data.Pclass == 1)] = np.where(np.isnan(train_data.Age[(train_data.Sex == 'female') & (train_data.Pclass == 1)]),\n",
    "                                                                                    age_train[0],train_data.Age[(train_data.Sex == 'female') & (train_data.Pclass == 1)])"
   ]
  },
  {
   "cell_type": "code",
   "execution_count": 13,
   "id": "36afc46f",
   "metadata": {
    "execution": {
     "iopub.execute_input": "2022-07-14T11:36:14.562686Z",
     "iopub.status.busy": "2022-07-14T11:36:14.561989Z",
     "iopub.status.idle": "2022-07-14T11:36:14.570710Z",
     "shell.execute_reply": "2022-07-14T11:36:14.569775Z"
    },
    "papermill": {
     "duration": 0.023224,
     "end_time": "2022-07-14T11:36:14.572704",
     "exception": false,
     "start_time": "2022-07-14T11:36:14.549480",
     "status": "completed"
    },
    "tags": []
   },
   "outputs": [
    {
     "data": {
      "text/plain": [
       "PassengerId      0\n",
       "Survived         0\n",
       "Pclass           0\n",
       "Name             0\n",
       "Sex              0\n",
       "Age              0\n",
       "SibSp            0\n",
       "Parch            0\n",
       "Ticket           0\n",
       "Fare             0\n",
       "Cabin          687\n",
       "Embarked         2\n",
       "dtype: int64"
      ]
     },
     "execution_count": 13,
     "metadata": {},
     "output_type": "execute_result"
    }
   ],
   "source": [
    "train_data.isnull().sum()"
   ]
  },
  {
   "cell_type": "code",
   "execution_count": 14,
   "id": "4335780a",
   "metadata": {
    "execution": {
     "iopub.execute_input": "2022-07-14T11:36:14.595178Z",
     "iopub.status.busy": "2022-07-14T11:36:14.594174Z",
     "iopub.status.idle": "2022-07-14T11:36:14.605710Z",
     "shell.execute_reply": "2022-07-14T11:36:14.604996Z"
    },
    "papermill": {
     "duration": 0.02456,
     "end_time": "2022-07-14T11:36:14.607468",
     "exception": false,
     "start_time": "2022-07-14T11:36:14.582908",
     "status": "completed"
    },
    "tags": []
   },
   "outputs": [
    {
     "data": {
      "text/plain": [
       "Sex     Pclass\n",
       "female  1         41.333333\n",
       "        2         24.376552\n",
       "        3         23.073400\n",
       "male    1         40.520000\n",
       "        2         30.940678\n",
       "        3         24.525104\n",
       "Name: Age, dtype: float64"
      ]
     },
     "execution_count": 14,
     "metadata": {},
     "output_type": "execute_result"
    }
   ],
   "source": [
    "age_test = test_data.groupby(['Sex','Pclass'])['Age'].mean()\n",
    "age_test"
   ]
  },
  {
   "cell_type": "code",
   "execution_count": 15,
   "id": "2454736e",
   "metadata": {
    "execution": {
     "iopub.execute_input": "2022-07-14T11:36:14.630871Z",
     "iopub.status.busy": "2022-07-14T11:36:14.629947Z",
     "iopub.status.idle": "2022-07-14T11:36:14.650491Z",
     "shell.execute_reply": "2022-07-14T11:36:14.649685Z"
    },
    "papermill": {
     "duration": 0.034525,
     "end_time": "2022-07-14T11:36:14.652526",
     "exception": false,
     "start_time": "2022-07-14T11:36:14.618001",
     "status": "completed"
    },
    "tags": []
   },
   "outputs": [],
   "source": [
    "test_data['Age'][(test_data.Sex == 'female') & (test_data.Pclass == 3)] = np.where(np.isnan(test_data.Age[(test_data.Sex == 'female') & (test_data.Pclass == 3)]),\n",
    "                                                                                    age_test[2],test_data.Age[(test_data.Sex == 'female') & (test_data.Pclass == 3)])\n",
    "\n",
    "test_data['Age'][(test_data.Sex == 'female') & (test_data.Pclass == 2)] = np.where(np.isnan(test_data.Age[(test_data.Sex == 'female') & (test_data.Pclass == 2)]),\n",
    "                                                                                    age_test[1],test_data.Age[(test_data.Sex == 'female') & (test_data.Pclass == 2)])\n",
    "\n",
    "test_data['Age'][(test_data.Sex == 'female') & (test_data.Pclass == 1)] = np.where(np.isnan(test_data.Age[(test_data.Sex == 'female') & (test_data.Pclass == 1)]),\n",
    "                                                                                    age_test[0],test_data.Age[(test_data.Sex == 'female') & (test_data.Pclass == 1)])"
   ]
  },
  {
   "cell_type": "code",
   "execution_count": 16,
   "id": "7a010e33",
   "metadata": {
    "execution": {
     "iopub.execute_input": "2022-07-14T11:36:14.674914Z",
     "iopub.status.busy": "2022-07-14T11:36:14.674172Z",
     "iopub.status.idle": "2022-07-14T11:36:14.693651Z",
     "shell.execute_reply": "2022-07-14T11:36:14.692905Z"
    },
    "papermill": {
     "duration": 0.033121,
     "end_time": "2022-07-14T11:36:14.695745",
     "exception": false,
     "start_time": "2022-07-14T11:36:14.662624",
     "status": "completed"
    },
    "tags": []
   },
   "outputs": [],
   "source": [
    "test_data['Age'][(test_data.Sex == 'male') & (test_data.Pclass == 3)] = np.where(np.isnan(test_data.Age[(test_data.Sex == 'male') & (test_data.Pclass == 3)]),\n",
    "                                                                                    age_test[5],test_data.Age[(test_data.Sex == 'male') & (test_data.Pclass == 3)])\n",
    "\n",
    "test_data['Age'][(test_data.Sex == 'male') & (test_data.Pclass == 2)] = np.where(np.isnan(test_data.Age[(test_data.Sex == 'male') & (test_data.Pclass == 2)]),\n",
    "                                                                                    age_test[4],test_data.Age[(test_data.Sex == 'male') & (test_data.Pclass == 2)])\n",
    "\n",
    "test_data['Age'][(test_data.Sex == 'male') & (test_data.Pclass == 1)] = np.where(np.isnan(test_data.Age[(test_data.Sex == 'male') & (test_data.Pclass == 1)]),\n",
    "                                                                                    age_test[3],test_data.Age[(test_data.Sex == 'male') & (test_data.Pclass == 1)])"
   ]
  },
  {
   "cell_type": "code",
   "execution_count": 17,
   "id": "65e936dc",
   "metadata": {
    "execution": {
     "iopub.execute_input": "2022-07-14T11:36:14.717413Z",
     "iopub.status.busy": "2022-07-14T11:36:14.717013Z",
     "iopub.status.idle": "2022-07-14T11:36:14.725557Z",
     "shell.execute_reply": "2022-07-14T11:36:14.724848Z"
    },
    "papermill": {
     "duration": 0.021455,
     "end_time": "2022-07-14T11:36:14.727219",
     "exception": false,
     "start_time": "2022-07-14T11:36:14.705764",
     "status": "completed"
    },
    "tags": []
   },
   "outputs": [
    {
     "data": {
      "text/plain": [
       "3    479\n",
       "2    168\n",
       "1     40\n",
       "Name: Pclass, dtype: int64"
      ]
     },
     "execution_count": 17,
     "metadata": {},
     "output_type": "execute_result"
    }
   ],
   "source": [
    "# check: when the Pclass = 3, the cabin is NaN or not?\n",
    "train_data[train_data['Cabin'].isnull()].Pclass.value_counts()"
   ]
  },
  {
   "cell_type": "code",
   "execution_count": 18,
   "id": "8e788008",
   "metadata": {
    "execution": {
     "iopub.execute_input": "2022-07-14T11:36:14.749043Z",
     "iopub.status.busy": "2022-07-14T11:36:14.748493Z",
     "iopub.status.idle": "2022-07-14T11:36:14.760250Z",
     "shell.execute_reply": "2022-07-14T11:36:14.759135Z"
    },
    "papermill": {
     "duration": 0.025048,
     "end_time": "2022-07-14T11:36:14.762253",
     "exception": false,
     "start_time": "2022-07-14T11:36:14.737205",
     "status": "completed"
    },
    "tags": []
   },
   "outputs": [
    {
     "name": "stdout",
     "output_type": "stream",
     "text": [
      "<class 'pandas.core.frame.DataFrame'>\n",
      "RangeIndex: 891 entries, 0 to 890\n",
      "Data columns (total 12 columns):\n",
      " #   Column       Non-Null Count  Dtype  \n",
      "---  ------       --------------  -----  \n",
      " 0   PassengerId  891 non-null    int64  \n",
      " 1   Survived     891 non-null    int64  \n",
      " 2   Pclass       891 non-null    int64  \n",
      " 3   Name         891 non-null    object \n",
      " 4   Sex          891 non-null    object \n",
      " 5   Age          891 non-null    float64\n",
      " 6   SibSp        891 non-null    int64  \n",
      " 7   Parch        891 non-null    int64  \n",
      " 8   Ticket       891 non-null    object \n",
      " 9   Fare         891 non-null    float64\n",
      " 10  Cabin        204 non-null    object \n",
      " 11  Embarked     889 non-null    object \n",
      "dtypes: float64(2), int64(5), object(5)\n",
      "memory usage: 83.7+ KB\n"
     ]
    }
   ],
   "source": [
    "train_data.info()"
   ]
  },
  {
   "cell_type": "code",
   "execution_count": 19,
   "id": "41ed66af",
   "metadata": {
    "execution": {
     "iopub.execute_input": "2022-07-14T11:36:14.784263Z",
     "iopub.status.busy": "2022-07-14T11:36:14.783709Z",
     "iopub.status.idle": "2022-07-14T11:36:14.798568Z",
     "shell.execute_reply": "2022-07-14T11:36:14.797607Z"
    },
    "papermill": {
     "duration": 0.028112,
     "end_time": "2022-07-14T11:36:14.800437",
     "exception": false,
     "start_time": "2022-07-14T11:36:14.772325",
     "status": "completed"
    },
    "tags": []
   },
   "outputs": [
    {
     "data": {
      "text/html": [
       "<div>\n",
       "<style scoped>\n",
       "    .dataframe tbody tr th:only-of-type {\n",
       "        vertical-align: middle;\n",
       "    }\n",
       "\n",
       "    .dataframe tbody tr th {\n",
       "        vertical-align: top;\n",
       "    }\n",
       "\n",
       "    .dataframe thead th {\n",
       "        text-align: right;\n",
       "    }\n",
       "</style>\n",
       "<table border=\"1\" class=\"dataframe\">\n",
       "  <thead>\n",
       "    <tr style=\"text-align: right;\">\n",
       "      <th></th>\n",
       "      <th>PassengerId</th>\n",
       "      <th>Survived</th>\n",
       "      <th>Pclass</th>\n",
       "      <th>Age</th>\n",
       "      <th>SibSp</th>\n",
       "      <th>Parch</th>\n",
       "      <th>Fare</th>\n",
       "    </tr>\n",
       "  </thead>\n",
       "  <tbody>\n",
       "    <tr>\n",
       "      <th>PassengerId</th>\n",
       "      <td>1.000000</td>\n",
       "      <td>-0.005007</td>\n",
       "      <td>-0.035144</td>\n",
       "      <td>0.039636</td>\n",
       "      <td>-0.057527</td>\n",
       "      <td>-0.001652</td>\n",
       "      <td>0.012658</td>\n",
       "    </tr>\n",
       "    <tr>\n",
       "      <th>Survived</th>\n",
       "      <td>-0.005007</td>\n",
       "      <td>1.000000</td>\n",
       "      <td>-0.338481</td>\n",
       "      <td>-0.067485</td>\n",
       "      <td>-0.035322</td>\n",
       "      <td>0.081629</td>\n",
       "      <td>0.257307</td>\n",
       "    </tr>\n",
       "    <tr>\n",
       "      <th>Pclass</th>\n",
       "      <td>-0.035144</td>\n",
       "      <td>-0.338481</td>\n",
       "      <td>1.000000</td>\n",
       "      <td>-0.407015</td>\n",
       "      <td>0.083081</td>\n",
       "      <td>0.018443</td>\n",
       "      <td>-0.549500</td>\n",
       "    </tr>\n",
       "    <tr>\n",
       "      <th>Age</th>\n",
       "      <td>0.039636</td>\n",
       "      <td>-0.067485</td>\n",
       "      <td>-0.407015</td>\n",
       "      <td>1.000000</td>\n",
       "      <td>-0.251313</td>\n",
       "      <td>-0.180705</td>\n",
       "      <td>0.118308</td>\n",
       "    </tr>\n",
       "    <tr>\n",
       "      <th>SibSp</th>\n",
       "      <td>-0.057527</td>\n",
       "      <td>-0.035322</td>\n",
       "      <td>0.083081</td>\n",
       "      <td>-0.251313</td>\n",
       "      <td>1.000000</td>\n",
       "      <td>0.414838</td>\n",
       "      <td>0.159651</td>\n",
       "    </tr>\n",
       "    <tr>\n",
       "      <th>Parch</th>\n",
       "      <td>-0.001652</td>\n",
       "      <td>0.081629</td>\n",
       "      <td>0.018443</td>\n",
       "      <td>-0.180705</td>\n",
       "      <td>0.414838</td>\n",
       "      <td>1.000000</td>\n",
       "      <td>0.216225</td>\n",
       "    </tr>\n",
       "    <tr>\n",
       "      <th>Fare</th>\n",
       "      <td>0.012658</td>\n",
       "      <td>0.257307</td>\n",
       "      <td>-0.549500</td>\n",
       "      <td>0.118308</td>\n",
       "      <td>0.159651</td>\n",
       "      <td>0.216225</td>\n",
       "      <td>1.000000</td>\n",
       "    </tr>\n",
       "  </tbody>\n",
       "</table>\n",
       "</div>"
      ],
      "text/plain": [
       "             PassengerId  Survived    Pclass       Age     SibSp     Parch  \\\n",
       "PassengerId     1.000000 -0.005007 -0.035144  0.039636 -0.057527 -0.001652   \n",
       "Survived       -0.005007  1.000000 -0.338481 -0.067485 -0.035322  0.081629   \n",
       "Pclass         -0.035144 -0.338481  1.000000 -0.407015  0.083081  0.018443   \n",
       "Age             0.039636 -0.067485 -0.407015  1.000000 -0.251313 -0.180705   \n",
       "SibSp          -0.057527 -0.035322  0.083081 -0.251313  1.000000  0.414838   \n",
       "Parch          -0.001652  0.081629  0.018443 -0.180705  0.414838  1.000000   \n",
       "Fare            0.012658  0.257307 -0.549500  0.118308  0.159651  0.216225   \n",
       "\n",
       "                 Fare  \n",
       "PassengerId  0.012658  \n",
       "Survived     0.257307  \n",
       "Pclass      -0.549500  \n",
       "Age          0.118308  \n",
       "SibSp        0.159651  \n",
       "Parch        0.216225  \n",
       "Fare         1.000000  "
      ]
     },
     "execution_count": 19,
     "metadata": {},
     "output_type": "execute_result"
    }
   ],
   "source": [
    "train_data.corr()"
   ]
  },
  {
   "cell_type": "code",
   "execution_count": 20,
   "id": "5be3314a",
   "metadata": {
    "execution": {
     "iopub.execute_input": "2022-07-14T11:36:14.823441Z",
     "iopub.status.busy": "2022-07-14T11:36:14.822859Z",
     "iopub.status.idle": "2022-07-14T11:36:14.837230Z",
     "shell.execute_reply": "2022-07-14T11:36:14.836509Z"
    },
    "papermill": {
     "duration": 0.028432,
     "end_time": "2022-07-14T11:36:14.839236",
     "exception": false,
     "start_time": "2022-07-14T11:36:14.810804",
     "status": "completed"
    },
    "tags": []
   },
   "outputs": [],
   "source": [
    "features = ['Pclass', 'Sex', 'Age','Fare']\n",
    "train = train_data.iloc[:int(len(train_data)*0.75)]\n",
    "test = train_data.iloc[int(len(train_data)*0.75):]\n",
    "\n",
    "X_train = pd.get_dummies(train[features])\n",
    "X_test = pd.get_dummies(test[features])\n",
    "y_train = train['Survived']\n",
    "y_test = test['Survived']"
   ]
  },
  {
   "cell_type": "code",
   "execution_count": 21,
   "id": "94a7b816",
   "metadata": {
    "execution": {
     "iopub.execute_input": "2022-07-14T11:36:14.869159Z",
     "iopub.status.busy": "2022-07-14T11:36:14.868241Z",
     "iopub.status.idle": "2022-07-14T11:36:16.203285Z",
     "shell.execute_reply": "2022-07-14T11:36:16.202247Z"
    },
    "papermill": {
     "duration": 1.355949,
     "end_time": "2022-07-14T11:36:16.205828",
     "exception": false,
     "start_time": "2022-07-14T11:36:14.849879",
     "status": "completed"
    },
    "tags": []
   },
   "outputs": [],
   "source": [
    "from sklearn.tree import DecisionTreeClassifier\n",
    "clf = DecisionTreeClassifier(random_state=0)\n"
   ]
  },
  {
   "cell_type": "code",
   "execution_count": 22,
   "id": "0275155c",
   "metadata": {
    "execution": {
     "iopub.execute_input": "2022-07-14T11:36:16.229811Z",
     "iopub.status.busy": "2022-07-14T11:36:16.229105Z",
     "iopub.status.idle": "2022-07-14T11:36:16.242241Z",
     "shell.execute_reply": "2022-07-14T11:36:16.241333Z"
    },
    "papermill": {
     "duration": 0.027439,
     "end_time": "2022-07-14T11:36:16.244419",
     "exception": false,
     "start_time": "2022-07-14T11:36:16.216980",
     "status": "completed"
    },
    "tags": []
   },
   "outputs": [
    {
     "data": {
      "text/plain": [
       "DecisionTreeClassifier(random_state=0)"
      ]
     },
     "execution_count": 22,
     "metadata": {},
     "output_type": "execute_result"
    }
   ],
   "source": [
    "clf.fit(X_train,y_train)"
   ]
  },
  {
   "cell_type": "code",
   "execution_count": 23,
   "id": "23481830",
   "metadata": {
    "execution": {
     "iopub.execute_input": "2022-07-14T11:36:16.267916Z",
     "iopub.status.busy": "2022-07-14T11:36:16.266999Z",
     "iopub.status.idle": "2022-07-14T11:36:16.275697Z",
     "shell.execute_reply": "2022-07-14T11:36:16.274808Z"
    },
    "papermill": {
     "duration": 0.02228,
     "end_time": "2022-07-14T11:36:16.277461",
     "exception": false,
     "start_time": "2022-07-14T11:36:16.255181",
     "status": "completed"
    },
    "tags": []
   },
   "outputs": [
    {
     "data": {
      "text/plain": [
       "0.8026905829596412"
      ]
     },
     "execution_count": 23,
     "metadata": {},
     "output_type": "execute_result"
    }
   ],
   "source": [
    "clf.score(X_test,y_test)"
   ]
  },
  {
   "cell_type": "code",
   "execution_count": 24,
   "id": "69c95724",
   "metadata": {
    "execution": {
     "iopub.execute_input": "2022-07-14T11:36:16.300463Z",
     "iopub.status.busy": "2022-07-14T11:36:16.299892Z",
     "iopub.status.idle": "2022-07-14T11:36:16.308621Z",
     "shell.execute_reply": "2022-07-14T11:36:16.307533Z"
    },
    "papermill": {
     "duration": 0.022636,
     "end_time": "2022-07-14T11:36:16.310599",
     "exception": false,
     "start_time": "2022-07-14T11:36:16.287963",
     "status": "completed"
    },
    "tags": []
   },
   "outputs": [
    {
     "data": {
      "text/plain": [
       "0.8026905829596412"
      ]
     },
     "execution_count": 24,
     "metadata": {},
     "output_type": "execute_result"
    }
   ],
   "source": [
    "from sklearn.metrics import accuracy_score\n",
    "y_pred = clf.predict(X_test)\n",
    "accuracy_score(y_test,y_pred)"
   ]
  },
  {
   "cell_type": "code",
   "execution_count": 25,
   "id": "f537aa61",
   "metadata": {
    "execution": {
     "iopub.execute_input": "2022-07-14T11:36:16.334154Z",
     "iopub.status.busy": "2022-07-14T11:36:16.333424Z",
     "iopub.status.idle": "2022-07-14T11:36:16.340262Z",
     "shell.execute_reply": "2022-07-14T11:36:16.339073Z"
    },
    "papermill": {
     "duration": 0.020752,
     "end_time": "2022-07-14T11:36:16.342335",
     "exception": false,
     "start_time": "2022-07-14T11:36:16.321583",
     "status": "completed"
    },
    "tags": []
   },
   "outputs": [],
   "source": [
    "#Since the NaN value occurs for 3rd Class\n",
    "test_data.Fare.fillna(test_data[test_data.Pclass == 3].Fare.mean(),inplace=True)"
   ]
  },
  {
   "cell_type": "code",
   "execution_count": 26,
   "id": "646c3156",
   "metadata": {
    "execution": {
     "iopub.execute_input": "2022-07-14T11:36:16.365487Z",
     "iopub.status.busy": "2022-07-14T11:36:16.365094Z",
     "iopub.status.idle": "2022-07-14T11:36:16.368856Z",
     "shell.execute_reply": "2022-07-14T11:36:16.367892Z"
    },
    "papermill": {
     "duration": 0.017805,
     "end_time": "2022-07-14T11:36:16.370834",
     "exception": false,
     "start_time": "2022-07-14T11:36:16.353029",
     "status": "completed"
    },
    "tags": []
   },
   "outputs": [],
   "source": [
    "# clf = RandomForestClassifier(random_state=1,n_jobs=-1)"
   ]
  },
  {
   "cell_type": "code",
   "execution_count": 27,
   "id": "ecf8eff8",
   "metadata": {
    "execution": {
     "iopub.execute_input": "2022-07-14T11:36:16.394876Z",
     "iopub.status.busy": "2022-07-14T11:36:16.394490Z",
     "iopub.status.idle": "2022-07-14T11:36:16.398407Z",
     "shell.execute_reply": "2022-07-14T11:36:16.397478Z"
    },
    "papermill": {
     "duration": 0.018336,
     "end_time": "2022-07-14T11:36:16.400093",
     "exception": false,
     "start_time": "2022-07-14T11:36:16.381757",
     "status": "completed"
    },
    "tags": []
   },
   "outputs": [],
   "source": [
    "# params = {\n",
    "#     'max_depth': [2,3,5,10,20,30,40,50],\n",
    "#     'min_samples_leaf': [5,10,20,50],\n",
    "#     'n_estimators': [10,25,30,50],\n",
    "#     'max_features': ['sqrt', 'log2']\n",
    "# }"
   ]
  },
  {
   "cell_type": "code",
   "execution_count": 28,
   "id": "9382dccb",
   "metadata": {
    "execution": {
     "iopub.execute_input": "2022-07-14T11:36:16.423411Z",
     "iopub.status.busy": "2022-07-14T11:36:16.422425Z",
     "iopub.status.idle": "2022-07-14T11:36:16.426794Z",
     "shell.execute_reply": "2022-07-14T11:36:16.426150Z"
    },
    "papermill": {
     "duration": 0.017748,
     "end_time": "2022-07-14T11:36:16.428530",
     "exception": false,
     "start_time": "2022-07-14T11:36:16.410782",
     "status": "completed"
    },
    "tags": []
   },
   "outputs": [],
   "source": [
    "# from sklearn.model_selection import GridSearchCV"
   ]
  },
  {
   "cell_type": "code",
   "execution_count": 29,
   "id": "2a5b9cf0",
   "metadata": {
    "execution": {
     "iopub.execute_input": "2022-07-14T11:36:16.451635Z",
     "iopub.status.busy": "2022-07-14T11:36:16.450895Z",
     "iopub.status.idle": "2022-07-14T11:36:16.454945Z",
     "shell.execute_reply": "2022-07-14T11:36:16.454300Z"
    },
    "papermill": {
     "duration": 0.017376,
     "end_time": "2022-07-14T11:36:16.456611",
     "exception": false,
     "start_time": "2022-07-14T11:36:16.439235",
     "status": "completed"
    },
    "tags": []
   },
   "outputs": [],
   "source": [
    "# grid_search = GridSearchCV(estimator=rf,param_grid=params,\n",
    "#                            cv=4,verbose=1,scoring='accuracy',n_jobs=-1)"
   ]
  },
  {
   "cell_type": "code",
   "execution_count": 30,
   "id": "867cfc98",
   "metadata": {
    "execution": {
     "iopub.execute_input": "2022-07-14T11:36:16.479873Z",
     "iopub.status.busy": "2022-07-14T11:36:16.479139Z",
     "iopub.status.idle": "2022-07-14T11:36:16.483509Z",
     "shell.execute_reply": "2022-07-14T11:36:16.482820Z"
    },
    "papermill": {
     "duration": 0.017856,
     "end_time": "2022-07-14T11:36:16.485201",
     "exception": false,
     "start_time": "2022-07-14T11:36:16.467345",
     "status": "completed"
    },
    "tags": []
   },
   "outputs": [],
   "source": [
    "# grid_search.fit(X_train,y_train)"
   ]
  },
  {
   "cell_type": "code",
   "execution_count": 31,
   "id": "31443e1d",
   "metadata": {
    "execution": {
     "iopub.execute_input": "2022-07-14T11:36:16.508876Z",
     "iopub.status.busy": "2022-07-14T11:36:16.507960Z",
     "iopub.status.idle": "2022-07-14T11:36:16.512129Z",
     "shell.execute_reply": "2022-07-14T11:36:16.511315Z"
    },
    "papermill": {
     "duration": 0.017985,
     "end_time": "2022-07-14T11:36:16.514099",
     "exception": false,
     "start_time": "2022-07-14T11:36:16.496114",
     "status": "completed"
    },
    "tags": []
   },
   "outputs": [],
   "source": [
    "# rf_best = grid_search.best_estimator_\n",
    "# rf_best"
   ]
  },
  {
   "cell_type": "code",
   "execution_count": 32,
   "id": "1e461703",
   "metadata": {
    "execution": {
     "iopub.execute_input": "2022-07-14T11:36:16.537892Z",
     "iopub.status.busy": "2022-07-14T11:36:16.537332Z",
     "iopub.status.idle": "2022-07-14T11:36:16.540420Z",
     "shell.execute_reply": "2022-07-14T11:36:16.539807Z"
    },
    "papermill": {
     "duration": 0.017072,
     "end_time": "2022-07-14T11:36:16.542374",
     "exception": false,
     "start_time": "2022-07-14T11:36:16.525302",
     "status": "completed"
    },
    "tags": []
   },
   "outputs": [],
   "source": [
    "# rf_best.feature_importances_"
   ]
  },
  {
   "cell_type": "code",
   "execution_count": 33,
   "id": "18b29d8c",
   "metadata": {
    "execution": {
     "iopub.execute_input": "2022-07-14T11:36:16.566764Z",
     "iopub.status.busy": "2022-07-14T11:36:16.566245Z",
     "iopub.status.idle": "2022-07-14T11:36:16.569332Z",
     "shell.execute_reply": "2022-07-14T11:36:16.568639Z"
    },
    "papermill": {
     "duration": 0.017495,
     "end_time": "2022-07-14T11:36:16.571302",
     "exception": false,
     "start_time": "2022-07-14T11:36:16.553807",
     "status": "completed"
    },
    "tags": []
   },
   "outputs": [],
   "source": [
    "# imp_df = pd.DataFrame({\n",
    "#     \"Varname\": X_train.columns,\n",
    "#     \"Imp\": rf_best.feature_importances_\n",
    "# })"
   ]
  },
  {
   "cell_type": "markdown",
   "id": "1f97573a",
   "metadata": {
    "papermill": {
     "duration": 0.011678,
     "end_time": "2022-07-14T11:36:16.593769",
     "exception": false,
     "start_time": "2022-07-14T11:36:16.582091",
     "status": "completed"
    },
    "tags": []
   },
   "source": []
  },
  {
   "cell_type": "code",
   "execution_count": 34,
   "id": "2af5f1e6",
   "metadata": {
    "execution": {
     "iopub.execute_input": "2022-07-14T11:36:16.618238Z",
     "iopub.status.busy": "2022-07-14T11:36:16.617586Z",
     "iopub.status.idle": "2022-07-14T11:36:16.621274Z",
     "shell.execute_reply": "2022-07-14T11:36:16.620619Z"
    },
    "papermill": {
     "duration": 0.018267,
     "end_time": "2022-07-14T11:36:16.623103",
     "exception": false,
     "start_time": "2022-07-14T11:36:16.604836",
     "status": "completed"
    },
    "tags": []
   },
   "outputs": [],
   "source": [
    "# imp_df.sort_values(by=\"Imp\", ascending=False)"
   ]
  },
  {
   "cell_type": "code",
   "execution_count": 35,
   "id": "42117be5",
   "metadata": {
    "execution": {
     "iopub.execute_input": "2022-07-14T11:36:16.646633Z",
     "iopub.status.busy": "2022-07-14T11:36:16.646054Z",
     "iopub.status.idle": "2022-07-14T11:36:16.649965Z",
     "shell.execute_reply": "2022-07-14T11:36:16.649296Z"
    },
    "papermill": {
     "duration": 0.01749,
     "end_time": "2022-07-14T11:36:16.651765",
     "exception": false,
     "start_time": "2022-07-14T11:36:16.634275",
     "status": "completed"
    },
    "tags": []
   },
   "outputs": [],
   "source": [
    "# grid_search.best_score_"
   ]
  },
  {
   "cell_type": "code",
   "execution_count": 36,
   "id": "66b5d39a",
   "metadata": {
    "execution": {
     "iopub.execute_input": "2022-07-14T11:36:16.675574Z",
     "iopub.status.busy": "2022-07-14T11:36:16.674918Z",
     "iopub.status.idle": "2022-07-14T11:36:16.678336Z",
     "shell.execute_reply": "2022-07-14T11:36:16.677666Z"
    },
    "papermill": {
     "duration": 0.017515,
     "end_time": "2022-07-14T11:36:16.680197",
     "exception": false,
     "start_time": "2022-07-14T11:36:16.662682",
     "status": "completed"
    },
    "tags": []
   },
   "outputs": [],
   "source": [
    "# y_pred = grid_search.predict(X_test)"
   ]
  },
  {
   "cell_type": "code",
   "execution_count": 37,
   "id": "31035e71",
   "metadata": {
    "execution": {
     "iopub.execute_input": "2022-07-14T11:36:16.704090Z",
     "iopub.status.busy": "2022-07-14T11:36:16.703450Z",
     "iopub.status.idle": "2022-07-14T11:36:16.709182Z",
     "shell.execute_reply": "2022-07-14T11:36:16.708361Z"
    },
    "papermill": {
     "duration": 0.019775,
     "end_time": "2022-07-14T11:36:16.710945",
     "exception": false,
     "start_time": "2022-07-14T11:36:16.691170",
     "status": "completed"
    },
    "tags": []
   },
   "outputs": [
    {
     "data": {
      "text/plain": [
       "0.8026905829596412"
      ]
     },
     "execution_count": 37,
     "metadata": {},
     "output_type": "execute_result"
    }
   ],
   "source": [
    "from sklearn.metrics import accuracy_score\n",
    "accuracy_score(y_pred,y_test)"
   ]
  },
  {
   "cell_type": "code",
   "execution_count": 38,
   "id": "bbf1a68d",
   "metadata": {
    "execution": {
     "iopub.execute_input": "2022-07-14T11:36:16.734473Z",
     "iopub.status.busy": "2022-07-14T11:36:16.733840Z",
     "iopub.status.idle": "2022-07-14T11:36:16.752802Z",
     "shell.execute_reply": "2022-07-14T11:36:16.751758Z"
    },
    "papermill": {
     "duration": 0.033053,
     "end_time": "2022-07-14T11:36:16.754852",
     "exception": false,
     "start_time": "2022-07-14T11:36:16.721799",
     "status": "completed"
    },
    "tags": []
   },
   "outputs": [
    {
     "data": {
      "text/plain": [
       "DecisionTreeClassifier(random_state=0)"
      ]
     },
     "execution_count": 38,
     "metadata": {},
     "output_type": "execute_result"
    }
   ],
   "source": [
    "# features = ['Pclass', 'Sex', 'Age', 'SibSp','Parch','Fare']\n",
    "\n",
    "y = train_data['Survived']\n",
    "X = pd.get_dummies(train_data[features])\n",
    "X_test = pd.get_dummies(test_data[features])\n",
    "\n",
    "clf.fit(X,y)"
   ]
  },
  {
   "cell_type": "code",
   "execution_count": 39,
   "id": "e1d0242b",
   "metadata": {
    "execution": {
     "iopub.execute_input": "2022-07-14T11:36:16.780163Z",
     "iopub.status.busy": "2022-07-14T11:36:16.779520Z",
     "iopub.status.idle": "2022-07-14T11:36:16.789819Z",
     "shell.execute_reply": "2022-07-14T11:36:16.788778Z"
    },
    "papermill": {
     "duration": 0.026311,
     "end_time": "2022-07-14T11:36:16.792421",
     "exception": false,
     "start_time": "2022-07-14T11:36:16.766110",
     "status": "completed"
    },
    "tags": []
   },
   "outputs": [],
   "source": [
    "predictions = clf.predict(X_test)\n",
    "\n",
    "output = pd.DataFrame({'PassengerId': test_data.PassengerId , 'Survived': predictions})\n",
    "output.to_csv('submission.csv', index=False)"
   ]
  },
  {
   "cell_type": "code",
   "execution_count": 40,
   "id": "5b243285",
   "metadata": {
    "execution": {
     "iopub.execute_input": "2022-07-14T11:36:16.816314Z",
     "iopub.status.busy": "2022-07-14T11:36:16.815941Z",
     "iopub.status.idle": "2022-07-14T11:36:16.820287Z",
     "shell.execute_reply": "2022-07-14T11:36:16.819206Z"
    },
    "papermill": {
     "duration": 0.018528,
     "end_time": "2022-07-14T11:36:16.822270",
     "exception": false,
     "start_time": "2022-07-14T11:36:16.803742",
     "status": "completed"
    },
    "tags": []
   },
   "outputs": [],
   "source": [
    "# param_grid = [    \n",
    "#     {'multi_class' : ['ovr'],\n",
    "#      'class_weight' : ['balanced'],\n",
    "#     'penalty' : ['l1','l2','elasticnet'],\n",
    "#     'C' : np.logspace(-4, 4, 20),\n",
    "#     'solver' : ['lbfgs','newton-cg','liblinear','sag','saga'],\n",
    "#     'max_iter' : [100,200,500,1000, 2000,2200,2500,3000,2600,3200,4000,5000]\n",
    "#     }\n",
    "# ]"
   ]
  },
  {
   "cell_type": "code",
   "execution_count": 41,
   "id": "1aeb799b",
   "metadata": {
    "execution": {
     "iopub.execute_input": "2022-07-14T11:36:16.846672Z",
     "iopub.status.busy": "2022-07-14T11:36:16.845858Z",
     "iopub.status.idle": "2022-07-14T11:36:16.849796Z",
     "shell.execute_reply": "2022-07-14T11:36:16.849053Z"
    },
    "papermill": {
     "duration": 0.018301,
     "end_time": "2022-07-14T11:36:16.851678",
     "exception": false,
     "start_time": "2022-07-14T11:36:16.833377",
     "status": "completed"
    },
    "tags": []
   },
   "outputs": [],
   "source": [
    "# from sklearn.model_selection import GridSearchCV\n",
    "# clf = GridSearchCV(logModel, param_grid = param_grid, cv = 3, verbose=True, n_jobs=-1)"
   ]
  },
  {
   "cell_type": "code",
   "execution_count": 42,
   "id": "3776016b",
   "metadata": {
    "execution": {
     "iopub.execute_input": "2022-07-14T11:36:16.877313Z",
     "iopub.status.busy": "2022-07-14T11:36:16.876711Z",
     "iopub.status.idle": "2022-07-14T11:36:16.880106Z",
     "shell.execute_reply": "2022-07-14T11:36:16.879430Z"
    },
    "papermill": {
     "duration": 0.019012,
     "end_time": "2022-07-14T11:36:16.881897",
     "exception": false,
     "start_time": "2022-07-14T11:36:16.862885",
     "status": "completed"
    },
    "tags": []
   },
   "outputs": [],
   "source": [
    "# best_clf = clf.fit(X_train,y_train)"
   ]
  },
  {
   "cell_type": "code",
   "execution_count": 43,
   "id": "fa7f4074",
   "metadata": {
    "execution": {
     "iopub.execute_input": "2022-07-14T11:36:16.906337Z",
     "iopub.status.busy": "2022-07-14T11:36:16.905750Z",
     "iopub.status.idle": "2022-07-14T11:36:16.909062Z",
     "shell.execute_reply": "2022-07-14T11:36:16.908420Z"
    },
    "papermill": {
     "duration": 0.01775,
     "end_time": "2022-07-14T11:36:16.910824",
     "exception": false,
     "start_time": "2022-07-14T11:36:16.893074",
     "status": "completed"
    },
    "tags": []
   },
   "outputs": [],
   "source": [
    "# best_clf.best_estimator_"
   ]
  },
  {
   "cell_type": "code",
   "execution_count": 44,
   "id": "c9a10bdf",
   "metadata": {
    "execution": {
     "iopub.execute_input": "2022-07-14T11:36:16.935019Z",
     "iopub.status.busy": "2022-07-14T11:36:16.934427Z",
     "iopub.status.idle": "2022-07-14T11:36:16.937775Z",
     "shell.execute_reply": "2022-07-14T11:36:16.937077Z"
    },
    "papermill": {
     "duration": 0.017477,
     "end_time": "2022-07-14T11:36:16.939469",
     "exception": false,
     "start_time": "2022-07-14T11:36:16.921992",
     "status": "completed"
    },
    "tags": []
   },
   "outputs": [],
   "source": [
    "# log_model = LogisticRegression(C=0.615848211066026, max_iter=2000, solver='sag')\n",
    "# log_model.fit(X_train,y_train)\n",
    "# pred = log_model.predict(X_test)"
   ]
  },
  {
   "cell_type": "code",
   "execution_count": 45,
   "id": "a2e5ada1",
   "metadata": {
    "execution": {
     "iopub.execute_input": "2022-07-14T11:36:16.963698Z",
     "iopub.status.busy": "2022-07-14T11:36:16.963282Z",
     "iopub.status.idle": "2022-07-14T11:36:16.966625Z",
     "shell.execute_reply": "2022-07-14T11:36:16.965856Z"
    },
    "papermill": {
     "duration": 0.017861,
     "end_time": "2022-07-14T11:36:16.968589",
     "exception": false,
     "start_time": "2022-07-14T11:36:16.950728",
     "status": "completed"
    },
    "tags": []
   },
   "outputs": [],
   "source": [
    "# from sklearn.metrics import accuracy_score\n",
    "# accuracy_score(y_test,pred)"
   ]
  },
  {
   "cell_type": "code",
   "execution_count": 46,
   "id": "038b45f4",
   "metadata": {
    "execution": {
     "iopub.execute_input": "2022-07-14T11:36:16.993726Z",
     "iopub.status.busy": "2022-07-14T11:36:16.993092Z",
     "iopub.status.idle": "2022-07-14T11:36:16.996560Z",
     "shell.execute_reply": "2022-07-14T11:36:16.995814Z"
    },
    "papermill": {
     "duration": 0.01845,
     "end_time": "2022-07-14T11:36:16.998437",
     "exception": false,
     "start_time": "2022-07-14T11:36:16.979987",
     "status": "completed"
    },
    "tags": []
   },
   "outputs": [],
   "source": [
    "# best_clf.best_estimator_"
   ]
  },
  {
   "cell_type": "code",
   "execution_count": 47,
   "id": "74a65d61",
   "metadata": {
    "execution": {
     "iopub.execute_input": "2022-07-14T11:36:17.023351Z",
     "iopub.status.busy": "2022-07-14T11:36:17.022724Z",
     "iopub.status.idle": "2022-07-14T11:36:17.026115Z",
     "shell.execute_reply": "2022-07-14T11:36:17.025464Z"
    },
    "papermill": {
     "duration": 0.018267,
     "end_time": "2022-07-14T11:36:17.028066",
     "exception": false,
     "start_time": "2022-07-14T11:36:17.009799",
     "status": "completed"
    },
    "tags": []
   },
   "outputs": [],
   "source": [
    "# m = LogisticRegression(C=0.03359818286283781, class_weight='balanced', max_iter=200,\n",
    "#                    multi_class='ovr', n_jobs=-1, random_state=1, solver='sag')\n",
    "# m.fit(X_train,y_train)"
   ]
  },
  {
   "cell_type": "code",
   "execution_count": 48,
   "id": "8adbac63",
   "metadata": {
    "execution": {
     "iopub.execute_input": "2022-07-14T11:36:17.053848Z",
     "iopub.status.busy": "2022-07-14T11:36:17.053165Z",
     "iopub.status.idle": "2022-07-14T11:36:17.056806Z",
     "shell.execute_reply": "2022-07-14T11:36:17.056003Z"
    },
    "papermill": {
     "duration": 0.018672,
     "end_time": "2022-07-14T11:36:17.058564",
     "exception": false,
     "start_time": "2022-07-14T11:36:17.039892",
     "status": "completed"
    },
    "tags": []
   },
   "outputs": [],
   "source": [
    "# m.score(X_test,y_test)"
   ]
  },
  {
   "cell_type": "code",
   "execution_count": 49,
   "id": "0921c246",
   "metadata": {
    "execution": {
     "iopub.execute_input": "2022-07-14T11:36:17.084626Z",
     "iopub.status.busy": "2022-07-14T11:36:17.084226Z",
     "iopub.status.idle": "2022-07-14T11:36:17.087690Z",
     "shell.execute_reply": "2022-07-14T11:36:17.086927Z"
    },
    "papermill": {
     "duration": 0.019502,
     "end_time": "2022-07-14T11:36:17.089444",
     "exception": false,
     "start_time": "2022-07-14T11:36:17.069942",
     "status": "completed"
    },
    "tags": []
   },
   "outputs": [],
   "source": [
    "# features = ['Pclass', 'Sex', 'Age', 'SibSp','Parch']\n",
    "\n",
    "# y = train_data['Survived']\n",
    "# X = pd.get_dummies(train_data[features])\n",
    "# X_test = pd.get_dummies(test_data[features])\n",
    "\n",
    "# model = LogisticRegression()\n",
    "# model.fit(X,y)"
   ]
  },
  {
   "cell_type": "code",
   "execution_count": 50,
   "id": "40111d71",
   "metadata": {
    "execution": {
     "iopub.execute_input": "2022-07-14T11:36:17.114859Z",
     "iopub.status.busy": "2022-07-14T11:36:17.114037Z",
     "iopub.status.idle": "2022-07-14T11:36:17.118562Z",
     "shell.execute_reply": "2022-07-14T11:36:17.117821Z"
    },
    "papermill": {
     "duration": 0.019371,
     "end_time": "2022-07-14T11:36:17.120358",
     "exception": false,
     "start_time": "2022-07-14T11:36:17.100987",
     "status": "completed"
    },
    "tags": []
   },
   "outputs": [],
   "source": [
    "# predictions = model.predict(X_test)\n",
    "\n",
    "# output = pd.DataFrame({'PassengerId': test_data.PassengerId , 'Survived': predictions})\n",
    "# output.to_csv('submission.csv', index=False)"
   ]
  }
 ],
 "metadata": {
  "kernelspec": {
   "display_name": "Python 3",
   "language": "python",
   "name": "python3"
  },
  "language_info": {
   "codemirror_mode": {
    "name": "ipython",
    "version": 3
   },
   "file_extension": ".py",
   "mimetype": "text/x-python",
   "name": "python",
   "nbconvert_exporter": "python",
   "pygments_lexer": "ipython3",
   "version": "3.7.12"
  },
  "papermill": {
   "default_parameters": {},
   "duration": 12.786649,
   "end_time": "2022-07-14T11:36:17.852353",
   "environment_variables": {},
   "exception": null,
   "input_path": "__notebook__.ipynb",
   "output_path": "__notebook__.ipynb",
   "parameters": {},
   "start_time": "2022-07-14T11:36:05.065704",
   "version": "2.3.4"
  }
 },
 "nbformat": 4,
 "nbformat_minor": 5
}
