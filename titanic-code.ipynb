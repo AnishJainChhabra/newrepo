{
 "cells": [
  {
   "cell_type": "code",
   "execution_count": 1,
   "id": "a1e97e55",
   "metadata": {
    "_cell_guid": "b1076dfc-b9ad-4769-8c92-a6c4dae69d19",
    "_uuid": "8f2839f25d086af736a60e9eeb907d3b93b6e0e5",
    "execution": {
     "iopub.execute_input": "2022-07-28T12:13:53.119834Z",
     "iopub.status.busy": "2022-07-28T12:13:53.119244Z",
     "iopub.status.idle": "2022-07-28T12:13:53.132909Z",
     "shell.execute_reply": "2022-07-28T12:13:53.131877Z"
    },
    "papermill": {
     "duration": 0.030923,
     "end_time": "2022-07-28T12:13:53.136363",
     "exception": false,
     "start_time": "2022-07-28T12:13:53.105440",
     "status": "completed"
    },
    "tags": []
   },
   "outputs": [
    {
     "name": "stdout",
     "output_type": "stream",
     "text": [
      "/kaggle/input/titanic/train.csv\n",
      "/kaggle/input/titanic/test.csv\n",
      "/kaggle/input/titanic/gender_submission.csv\n"
     ]
    }
   ],
   "source": [
    "# This Python 3 environment comes with many helpful analytics libraries installed\n",
    "# It is defined by the kaggle/python Docker image: https://github.com/kaggle/docker-python\n",
    "# For example, here's several helpful packages to load\n",
    "\n",
    "import numpy as np # linear algebra\n",
    "import pandas as pd # data processing, CSV file I/O (e.g. pd.read_csv)\n",
    "\n",
    "# Input data files are available in the read-only \"../input/\" directory\n",
    "# For example, running this (by clicking run or pressing Shift+Enter) will list all files under the input directory\n",
    "\n",
    "import os\n",
    "for dirname, _, filenames in os.walk('/kaggle/input'):\n",
    "    for filename in filenames:\n",
    "        print(os.path.join(dirname, filename))\n",
    "\n",
    "# You can write up to 20GB to the current directory (/kaggle/working/) that gets preserved as output when you create a version using \"Save & Run All\" \n",
    "# You can also write temporary files to /kaggle/temp/, but they won't be saved outside of the current session"
   ]
  },
  {
   "cell_type": "code",
   "execution_count": 2,
   "id": "a3ce60d1",
   "metadata": {
    "execution": {
     "iopub.execute_input": "2022-07-28T12:13:53.161915Z",
     "iopub.status.busy": "2022-07-28T12:13:53.161526Z",
     "iopub.status.idle": "2022-07-28T12:13:53.200867Z",
     "shell.execute_reply": "2022-07-28T12:13:53.200229Z"
    },
    "papermill": {
     "duration": 0.053461,
     "end_time": "2022-07-28T12:13:53.202688",
     "exception": false,
     "start_time": "2022-07-28T12:13:53.149227",
     "status": "completed"
    },
    "tags": []
   },
   "outputs": [
    {
     "data": {
      "text/html": [
       "<div>\n",
       "<style scoped>\n",
       "    .dataframe tbody tr th:only-of-type {\n",
       "        vertical-align: middle;\n",
       "    }\n",
       "\n",
       "    .dataframe tbody tr th {\n",
       "        vertical-align: top;\n",
       "    }\n",
       "\n",
       "    .dataframe thead th {\n",
       "        text-align: right;\n",
       "    }\n",
       "</style>\n",
       "<table border=\"1\" class=\"dataframe\">\n",
       "  <thead>\n",
       "    <tr style=\"text-align: right;\">\n",
       "      <th></th>\n",
       "      <th>PassengerId</th>\n",
       "      <th>Survived</th>\n",
       "      <th>Pclass</th>\n",
       "      <th>Name</th>\n",
       "      <th>Sex</th>\n",
       "      <th>Age</th>\n",
       "      <th>SibSp</th>\n",
       "      <th>Parch</th>\n",
       "      <th>Ticket</th>\n",
       "      <th>Fare</th>\n",
       "      <th>Cabin</th>\n",
       "      <th>Embarked</th>\n",
       "    </tr>\n",
       "  </thead>\n",
       "  <tbody>\n",
       "    <tr>\n",
       "      <th>0</th>\n",
       "      <td>1</td>\n",
       "      <td>0</td>\n",
       "      <td>3</td>\n",
       "      <td>Braund, Mr. Owen Harris</td>\n",
       "      <td>male</td>\n",
       "      <td>22.0</td>\n",
       "      <td>1</td>\n",
       "      <td>0</td>\n",
       "      <td>A/5 21171</td>\n",
       "      <td>7.2500</td>\n",
       "      <td>NaN</td>\n",
       "      <td>S</td>\n",
       "    </tr>\n",
       "    <tr>\n",
       "      <th>1</th>\n",
       "      <td>2</td>\n",
       "      <td>1</td>\n",
       "      <td>1</td>\n",
       "      <td>Cumings, Mrs. John Bradley (Florence Briggs Th...</td>\n",
       "      <td>female</td>\n",
       "      <td>38.0</td>\n",
       "      <td>1</td>\n",
       "      <td>0</td>\n",
       "      <td>PC 17599</td>\n",
       "      <td>71.2833</td>\n",
       "      <td>C85</td>\n",
       "      <td>C</td>\n",
       "    </tr>\n",
       "    <tr>\n",
       "      <th>2</th>\n",
       "      <td>3</td>\n",
       "      <td>1</td>\n",
       "      <td>3</td>\n",
       "      <td>Heikkinen, Miss. Laina</td>\n",
       "      <td>female</td>\n",
       "      <td>26.0</td>\n",
       "      <td>0</td>\n",
       "      <td>0</td>\n",
       "      <td>STON/O2. 3101282</td>\n",
       "      <td>7.9250</td>\n",
       "      <td>NaN</td>\n",
       "      <td>S</td>\n",
       "    </tr>\n",
       "    <tr>\n",
       "      <th>3</th>\n",
       "      <td>4</td>\n",
       "      <td>1</td>\n",
       "      <td>1</td>\n",
       "      <td>Futrelle, Mrs. Jacques Heath (Lily May Peel)</td>\n",
       "      <td>female</td>\n",
       "      <td>35.0</td>\n",
       "      <td>1</td>\n",
       "      <td>0</td>\n",
       "      <td>113803</td>\n",
       "      <td>53.1000</td>\n",
       "      <td>C123</td>\n",
       "      <td>S</td>\n",
       "    </tr>\n",
       "    <tr>\n",
       "      <th>4</th>\n",
       "      <td>5</td>\n",
       "      <td>0</td>\n",
       "      <td>3</td>\n",
       "      <td>Allen, Mr. William Henry</td>\n",
       "      <td>male</td>\n",
       "      <td>35.0</td>\n",
       "      <td>0</td>\n",
       "      <td>0</td>\n",
       "      <td>373450</td>\n",
       "      <td>8.0500</td>\n",
       "      <td>NaN</td>\n",
       "      <td>S</td>\n",
       "    </tr>\n",
       "  </tbody>\n",
       "</table>\n",
       "</div>"
      ],
      "text/plain": [
       "   PassengerId  Survived  Pclass  \\\n",
       "0            1         0       3   \n",
       "1            2         1       1   \n",
       "2            3         1       3   \n",
       "3            4         1       1   \n",
       "4            5         0       3   \n",
       "\n",
       "                                                Name     Sex   Age  SibSp  \\\n",
       "0                            Braund, Mr. Owen Harris    male  22.0      1   \n",
       "1  Cumings, Mrs. John Bradley (Florence Briggs Th...  female  38.0      1   \n",
       "2                             Heikkinen, Miss. Laina  female  26.0      0   \n",
       "3       Futrelle, Mrs. Jacques Heath (Lily May Peel)  female  35.0      1   \n",
       "4                           Allen, Mr. William Henry    male  35.0      0   \n",
       "\n",
       "   Parch            Ticket     Fare Cabin Embarked  \n",
       "0      0         A/5 21171   7.2500   NaN        S  \n",
       "1      0          PC 17599  71.2833   C85        C  \n",
       "2      0  STON/O2. 3101282   7.9250   NaN        S  \n",
       "3      0            113803  53.1000  C123        S  \n",
       "4      0            373450   8.0500   NaN        S  "
      ]
     },
     "execution_count": 2,
     "metadata": {},
     "output_type": "execute_result"
    }
   ],
   "source": [
    "import warnings\n",
    "warnings.filterwarnings('ignore')\n",
    "train_data = pd.read_csv('/kaggle/input/titanic/train.csv')\n",
    "train_data.head()"
   ]
  },
  {
   "cell_type": "code",
   "execution_count": 3,
   "id": "6bb456b2",
   "metadata": {
    "execution": {
     "iopub.execute_input": "2022-07-28T12:13:53.226392Z",
     "iopub.status.busy": "2022-07-28T12:13:53.225755Z",
     "iopub.status.idle": "2022-07-28T12:13:53.240423Z",
     "shell.execute_reply": "2022-07-28T12:13:53.239443Z"
    },
    "papermill": {
     "duration": 0.028933,
     "end_time": "2022-07-28T12:13:53.242535",
     "exception": false,
     "start_time": "2022-07-28T12:13:53.213602",
     "status": "completed"
    },
    "tags": []
   },
   "outputs": [
    {
     "data": {
      "text/plain": [
       "0    549\n",
       "1    342\n",
       "Name: Survived, dtype: int64"
      ]
     },
     "execution_count": 3,
     "metadata": {},
     "output_type": "execute_result"
    }
   ],
   "source": [
    "train_data.Survived.value_counts()"
   ]
  },
  {
   "cell_type": "code",
   "execution_count": 4,
   "id": "294a932e",
   "metadata": {
    "execution": {
     "iopub.execute_input": "2022-07-28T12:13:53.266754Z",
     "iopub.status.busy": "2022-07-28T12:13:53.266320Z",
     "iopub.status.idle": "2022-07-28T12:13:53.287847Z",
     "shell.execute_reply": "2022-07-28T12:13:53.286917Z"
    },
    "papermill": {
     "duration": 0.03645,
     "end_time": "2022-07-28T12:13:53.290038",
     "exception": false,
     "start_time": "2022-07-28T12:13:53.253588",
     "status": "completed"
    },
    "tags": []
   },
   "outputs": [
    {
     "data": {
      "text/html": [
       "<div>\n",
       "<style scoped>\n",
       "    .dataframe tbody tr th:only-of-type {\n",
       "        vertical-align: middle;\n",
       "    }\n",
       "\n",
       "    .dataframe tbody tr th {\n",
       "        vertical-align: top;\n",
       "    }\n",
       "\n",
       "    .dataframe thead th {\n",
       "        text-align: right;\n",
       "    }\n",
       "</style>\n",
       "<table border=\"1\" class=\"dataframe\">\n",
       "  <thead>\n",
       "    <tr style=\"text-align: right;\">\n",
       "      <th></th>\n",
       "      <th>PassengerId</th>\n",
       "      <th>Pclass</th>\n",
       "      <th>Name</th>\n",
       "      <th>Sex</th>\n",
       "      <th>Age</th>\n",
       "      <th>SibSp</th>\n",
       "      <th>Parch</th>\n",
       "      <th>Ticket</th>\n",
       "      <th>Fare</th>\n",
       "      <th>Cabin</th>\n",
       "      <th>Embarked</th>\n",
       "    </tr>\n",
       "  </thead>\n",
       "  <tbody>\n",
       "    <tr>\n",
       "      <th>0</th>\n",
       "      <td>892</td>\n",
       "      <td>3</td>\n",
       "      <td>Kelly, Mr. James</td>\n",
       "      <td>male</td>\n",
       "      <td>34.5</td>\n",
       "      <td>0</td>\n",
       "      <td>0</td>\n",
       "      <td>330911</td>\n",
       "      <td>7.8292</td>\n",
       "      <td>NaN</td>\n",
       "      <td>Q</td>\n",
       "    </tr>\n",
       "    <tr>\n",
       "      <th>1</th>\n",
       "      <td>893</td>\n",
       "      <td>3</td>\n",
       "      <td>Wilkes, Mrs. James (Ellen Needs)</td>\n",
       "      <td>female</td>\n",
       "      <td>47.0</td>\n",
       "      <td>1</td>\n",
       "      <td>0</td>\n",
       "      <td>363272</td>\n",
       "      <td>7.0000</td>\n",
       "      <td>NaN</td>\n",
       "      <td>S</td>\n",
       "    </tr>\n",
       "    <tr>\n",
       "      <th>2</th>\n",
       "      <td>894</td>\n",
       "      <td>2</td>\n",
       "      <td>Myles, Mr. Thomas Francis</td>\n",
       "      <td>male</td>\n",
       "      <td>62.0</td>\n",
       "      <td>0</td>\n",
       "      <td>0</td>\n",
       "      <td>240276</td>\n",
       "      <td>9.6875</td>\n",
       "      <td>NaN</td>\n",
       "      <td>Q</td>\n",
       "    </tr>\n",
       "    <tr>\n",
       "      <th>3</th>\n",
       "      <td>895</td>\n",
       "      <td>3</td>\n",
       "      <td>Wirz, Mr. Albert</td>\n",
       "      <td>male</td>\n",
       "      <td>27.0</td>\n",
       "      <td>0</td>\n",
       "      <td>0</td>\n",
       "      <td>315154</td>\n",
       "      <td>8.6625</td>\n",
       "      <td>NaN</td>\n",
       "      <td>S</td>\n",
       "    </tr>\n",
       "    <tr>\n",
       "      <th>4</th>\n",
       "      <td>896</td>\n",
       "      <td>3</td>\n",
       "      <td>Hirvonen, Mrs. Alexander (Helga E Lindqvist)</td>\n",
       "      <td>female</td>\n",
       "      <td>22.0</td>\n",
       "      <td>1</td>\n",
       "      <td>1</td>\n",
       "      <td>3101298</td>\n",
       "      <td>12.2875</td>\n",
       "      <td>NaN</td>\n",
       "      <td>S</td>\n",
       "    </tr>\n",
       "  </tbody>\n",
       "</table>\n",
       "</div>"
      ],
      "text/plain": [
       "   PassengerId  Pclass                                          Name     Sex  \\\n",
       "0          892       3                              Kelly, Mr. James    male   \n",
       "1          893       3              Wilkes, Mrs. James (Ellen Needs)  female   \n",
       "2          894       2                     Myles, Mr. Thomas Francis    male   \n",
       "3          895       3                              Wirz, Mr. Albert    male   \n",
       "4          896       3  Hirvonen, Mrs. Alexander (Helga E Lindqvist)  female   \n",
       "\n",
       "    Age  SibSp  Parch   Ticket     Fare Cabin Embarked  \n",
       "0  34.5      0      0   330911   7.8292   NaN        Q  \n",
       "1  47.0      1      0   363272   7.0000   NaN        S  \n",
       "2  62.0      0      0   240276   9.6875   NaN        Q  \n",
       "3  27.0      0      0   315154   8.6625   NaN        S  \n",
       "4  22.0      1      1  3101298  12.2875   NaN        S  "
      ]
     },
     "execution_count": 4,
     "metadata": {},
     "output_type": "execute_result"
    }
   ],
   "source": [
    "test_data = pd.read_csv(\"/kaggle/input/titanic/test.csv\")\n",
    "test_data.head()"
   ]
  },
  {
   "cell_type": "code",
   "execution_count": 5,
   "id": "bf3d21fc",
   "metadata": {
    "execution": {
     "iopub.execute_input": "2022-07-28T12:13:53.314526Z",
     "iopub.status.busy": "2022-07-28T12:13:53.314169Z",
     "iopub.status.idle": "2022-07-28T12:13:53.332090Z",
     "shell.execute_reply": "2022-07-28T12:13:53.331030Z"
    },
    "papermill": {
     "duration": 0.032748,
     "end_time": "2022-07-28T12:13:53.334323",
     "exception": false,
     "start_time": "2022-07-28T12:13:53.301575",
     "status": "completed"
    },
    "tags": []
   },
   "outputs": [
    {
     "name": "stdout",
     "output_type": "stream",
     "text": [
      "<class 'pandas.core.frame.DataFrame'>\n",
      "RangeIndex: 418 entries, 0 to 417\n",
      "Data columns (total 11 columns):\n",
      " #   Column       Non-Null Count  Dtype  \n",
      "---  ------       --------------  -----  \n",
      " 0   PassengerId  418 non-null    int64  \n",
      " 1   Pclass       418 non-null    int64  \n",
      " 2   Name         418 non-null    object \n",
      " 3   Sex          418 non-null    object \n",
      " 4   Age          332 non-null    float64\n",
      " 5   SibSp        418 non-null    int64  \n",
      " 6   Parch        418 non-null    int64  \n",
      " 7   Ticket       418 non-null    object \n",
      " 8   Fare         417 non-null    float64\n",
      " 9   Cabin        91 non-null     object \n",
      " 10  Embarked     418 non-null    object \n",
      "dtypes: float64(2), int64(4), object(5)\n",
      "memory usage: 36.0+ KB\n"
     ]
    }
   ],
   "source": [
    "test_data.info()"
   ]
  },
  {
   "cell_type": "code",
   "execution_count": 6,
   "id": "17a77f4c",
   "metadata": {
    "execution": {
     "iopub.execute_input": "2022-07-28T12:13:53.357836Z",
     "iopub.status.busy": "2022-07-28T12:13:53.357487Z",
     "iopub.status.idle": "2022-07-28T12:13:53.363404Z",
     "shell.execute_reply": "2022-07-28T12:13:53.362463Z"
    },
    "papermill": {
     "duration": 0.019869,
     "end_time": "2022-07-28T12:13:53.365192",
     "exception": false,
     "start_time": "2022-07-28T12:13:53.345323",
     "status": "completed"
    },
    "tags": []
   },
   "outputs": [
    {
     "data": {
      "text/plain": [
       "(891, 12)"
      ]
     },
     "execution_count": 6,
     "metadata": {},
     "output_type": "execute_result"
    }
   ],
   "source": [
    "train_data.shape"
   ]
  },
  {
   "cell_type": "code",
   "execution_count": 7,
   "id": "d37573e5",
   "metadata": {
    "execution": {
     "iopub.execute_input": "2022-07-28T12:13:53.390340Z",
     "iopub.status.busy": "2022-07-28T12:13:53.389322Z",
     "iopub.status.idle": "2022-07-28T12:13:53.399134Z",
     "shell.execute_reply": "2022-07-28T12:13:53.397972Z"
    },
    "papermill": {
     "duration": 0.025704,
     "end_time": "2022-07-28T12:13:53.402118",
     "exception": false,
     "start_time": "2022-07-28T12:13:53.376414",
     "status": "completed"
    },
    "tags": []
   },
   "outputs": [
    {
     "data": {
      "text/plain": [
       "array([3, 1, 2])"
      ]
     },
     "execution_count": 7,
     "metadata": {},
     "output_type": "execute_result"
    }
   ],
   "source": [
    "train_data.Pclass.unique()"
   ]
  },
  {
   "cell_type": "code",
   "execution_count": 8,
   "id": "9d86564a",
   "metadata": {
    "execution": {
     "iopub.execute_input": "2022-07-28T12:13:53.430512Z",
     "iopub.status.busy": "2022-07-28T12:13:53.429531Z",
     "iopub.status.idle": "2022-07-28T12:13:53.439787Z",
     "shell.execute_reply": "2022-07-28T12:13:53.438415Z"
    },
    "papermill": {
     "duration": 0.027408,
     "end_time": "2022-07-28T12:13:53.442752",
     "exception": false,
     "start_time": "2022-07-28T12:13:53.415344",
     "status": "completed"
    },
    "tags": []
   },
   "outputs": [
    {
     "data": {
      "text/plain": [
       "male      577\n",
       "female    314\n",
       "Name: Sex, dtype: int64"
      ]
     },
     "execution_count": 8,
     "metadata": {},
     "output_type": "execute_result"
    }
   ],
   "source": [
    "train_data.Sex.value_counts()"
   ]
  },
  {
   "cell_type": "code",
   "execution_count": 9,
   "id": "a23c36e7",
   "metadata": {
    "execution": {
     "iopub.execute_input": "2022-07-28T12:13:53.476127Z",
     "iopub.status.busy": "2022-07-28T12:13:53.475021Z",
     "iopub.status.idle": "2022-07-28T12:13:53.486250Z",
     "shell.execute_reply": "2022-07-28T12:13:53.485190Z"
    },
    "papermill": {
     "duration": 0.028468,
     "end_time": "2022-07-28T12:13:53.488351",
     "exception": false,
     "start_time": "2022-07-28T12:13:53.459883",
     "status": "completed"
    },
    "tags": []
   },
   "outputs": [
    {
     "data": {
      "text/plain": [
       "3    347\n",
       "1    122\n",
       "2    108\n",
       "Name: Pclass, dtype: int64"
      ]
     },
     "execution_count": 9,
     "metadata": {},
     "output_type": "execute_result"
    }
   ],
   "source": [
    "train_data[(train_data.Sex == 'male')].Pclass.value_counts()"
   ]
  },
  {
   "cell_type": "code",
   "execution_count": 10,
   "id": "17bf8d74",
   "metadata": {
    "execution": {
     "iopub.execute_input": "2022-07-28T12:13:53.515153Z",
     "iopub.status.busy": "2022-07-28T12:13:53.514446Z",
     "iopub.status.idle": "2022-07-28T12:13:53.522552Z",
     "shell.execute_reply": "2022-07-28T12:13:53.521845Z"
    },
    "papermill": {
     "duration": 0.022404,
     "end_time": "2022-07-28T12:13:53.524305",
     "exception": false,
     "start_time": "2022-07-28T12:13:53.501901",
     "status": "completed"
    },
    "tags": []
   },
   "outputs": [
    {
     "data": {
      "text/plain": [
       "3    144\n",
       "1     94\n",
       "2     76\n",
       "Name: Pclass, dtype: int64"
      ]
     },
     "execution_count": 10,
     "metadata": {},
     "output_type": "execute_result"
    }
   ],
   "source": [
    "train_data[train_data.Sex == 'female'].Pclass.value_counts()"
   ]
  },
  {
   "cell_type": "code",
   "execution_count": 11,
   "id": "aec5afed",
   "metadata": {
    "execution": {
     "iopub.execute_input": "2022-07-28T12:13:53.548733Z",
     "iopub.status.busy": "2022-07-28T12:13:53.548043Z",
     "iopub.status.idle": "2022-07-28T12:13:53.559128Z",
     "shell.execute_reply": "2022-07-28T12:13:53.558240Z"
    },
    "papermill": {
     "duration": 0.025308,
     "end_time": "2022-07-28T12:13:53.560911",
     "exception": false,
     "start_time": "2022-07-28T12:13:53.535603",
     "status": "completed"
    },
    "tags": []
   },
   "outputs": [
    {
     "data": {
      "text/plain": [
       "Sex     Pclass\n",
       "female  1         34.611765\n",
       "        2         28.722973\n",
       "        3         21.750000\n",
       "male    1         41.281386\n",
       "        2         30.740707\n",
       "        3         26.507589\n",
       "Name: Age, dtype: float64"
      ]
     },
     "execution_count": 11,
     "metadata": {},
     "output_type": "execute_result"
    }
   ],
   "source": [
    "age_train = train_data.groupby(['Sex','Pclass'])['Age'].mean()\n",
    "age_train"
   ]
  },
  {
   "cell_type": "code",
   "execution_count": 12,
   "id": "ccb40313",
   "metadata": {
    "execution": {
     "iopub.execute_input": "2022-07-28T12:13:53.585934Z",
     "iopub.status.busy": "2022-07-28T12:13:53.585246Z",
     "iopub.status.idle": "2022-07-28T12:13:53.604310Z",
     "shell.execute_reply": "2022-07-28T12:13:53.603616Z"
    },
    "papermill": {
     "duration": 0.034155,
     "end_time": "2022-07-28T12:13:53.606406",
     "exception": false,
     "start_time": "2022-07-28T12:13:53.572251",
     "status": "completed"
    },
    "tags": []
   },
   "outputs": [],
   "source": [
    "train_data['Age'][(train_data.Sex == 'male') & (train_data.Pclass == 3)] = np.where(np.isnan(train_data.Age[(train_data.Sex == 'male') & (train_data.Pclass == 3)]),\n",
    "                                                                                    age_train[5],train_data.Age[(train_data.Sex == 'male') & (train_data.Pclass == 3)])\n",
    "\n",
    "train_data['Age'][(train_data.Sex == 'male') & (train_data.Pclass == 2)] = np.where(np.isnan(train_data.Age[(train_data.Sex == 'male') & (train_data.Pclass == 2)]),\n",
    "                                                                                    age_train[4],train_data.Age[(train_data.Sex == 'male') & (train_data.Pclass == 2)])\n",
    "\n",
    "train_data['Age'][(train_data.Sex == 'male') & (train_data.Pclass == 1)] = np.where(np.isnan(train_data.Age[(train_data.Sex == 'male') & (train_data.Pclass == 1)]),\n",
    "                                                                                    age_train[3],train_data.Age[(train_data.Sex == 'male') & (train_data.Pclass == 1)])"
   ]
  },
  {
   "cell_type": "code",
   "execution_count": 13,
   "id": "7035a1f1",
   "metadata": {
    "execution": {
     "iopub.execute_input": "2022-07-28T12:13:53.631669Z",
     "iopub.status.busy": "2022-07-28T12:13:53.630940Z",
     "iopub.status.idle": "2022-07-28T12:13:53.650040Z",
     "shell.execute_reply": "2022-07-28T12:13:53.649353Z"
    },
    "papermill": {
     "duration": 0.034342,
     "end_time": "2022-07-28T12:13:53.652171",
     "exception": false,
     "start_time": "2022-07-28T12:13:53.617829",
     "status": "completed"
    },
    "tags": []
   },
   "outputs": [],
   "source": [
    "train_data['Age'][(train_data.Sex == 'female') & (train_data.Pclass == 3)] = np.where(np.isnan(train_data.Age[(train_data.Sex == 'female') & (train_data.Pclass == 3)]),\n",
    "                                                                                    age_train[2],train_data.Age[(train_data.Sex == 'female') & (train_data.Pclass == 3)])\n",
    "\n",
    "train_data['Age'][(train_data.Sex == 'female') & (train_data.Pclass == 2)] = np.where(np.isnan(train_data.Age[(train_data.Sex == 'female') & (train_data.Pclass == 2)]),\n",
    "                                                                                    age_train[1],train_data.Age[(train_data.Sex == 'female') & (train_data.Pclass == 2)])\n",
    "\n",
    "train_data['Age'][(train_data.Sex == 'female') & (train_data.Pclass == 1)] = np.where(np.isnan(train_data.Age[(train_data.Sex == 'female') & (train_data.Pclass == 1)]),\n",
    "                                                                                    age_train[0],train_data.Age[(train_data.Sex == 'female') & (train_data.Pclass == 1)])"
   ]
  },
  {
   "cell_type": "code",
   "execution_count": 14,
   "id": "f9644a5c",
   "metadata": {
    "execution": {
     "iopub.execute_input": "2022-07-28T12:13:53.676897Z",
     "iopub.status.busy": "2022-07-28T12:13:53.676207Z",
     "iopub.status.idle": "2022-07-28T12:13:53.684479Z",
     "shell.execute_reply": "2022-07-28T12:13:53.683774Z"
    },
    "papermill": {
     "duration": 0.022691,
     "end_time": "2022-07-28T12:13:53.686220",
     "exception": false,
     "start_time": "2022-07-28T12:13:53.663529",
     "status": "completed"
    },
    "tags": []
   },
   "outputs": [
    {
     "data": {
      "text/plain": [
       "PassengerId      0\n",
       "Survived         0\n",
       "Pclass           0\n",
       "Name             0\n",
       "Sex              0\n",
       "Age              0\n",
       "SibSp            0\n",
       "Parch            0\n",
       "Ticket           0\n",
       "Fare             0\n",
       "Cabin          687\n",
       "Embarked         2\n",
       "dtype: int64"
      ]
     },
     "execution_count": 14,
     "metadata": {},
     "output_type": "execute_result"
    }
   ],
   "source": [
    "train_data.isnull().sum()"
   ]
  },
  {
   "cell_type": "code",
   "execution_count": 15,
   "id": "f9a97e8d",
   "metadata": {
    "execution": {
     "iopub.execute_input": "2022-07-28T12:13:53.711095Z",
     "iopub.status.busy": "2022-07-28T12:13:53.710392Z",
     "iopub.status.idle": "2022-07-28T12:13:53.719814Z",
     "shell.execute_reply": "2022-07-28T12:13:53.719030Z"
    },
    "papermill": {
     "duration": 0.024009,
     "end_time": "2022-07-28T12:13:53.721620",
     "exception": false,
     "start_time": "2022-07-28T12:13:53.697611",
     "status": "completed"
    },
    "tags": []
   },
   "outputs": [
    {
     "data": {
      "text/plain": [
       "Sex     Pclass\n",
       "female  1         41.333333\n",
       "        2         24.376552\n",
       "        3         23.073400\n",
       "male    1         40.520000\n",
       "        2         30.940678\n",
       "        3         24.525104\n",
       "Name: Age, dtype: float64"
      ]
     },
     "execution_count": 15,
     "metadata": {},
     "output_type": "execute_result"
    }
   ],
   "source": [
    "age_test = test_data.groupby(['Sex','Pclass'])['Age'].mean()\n",
    "age_test"
   ]
  },
  {
   "cell_type": "code",
   "execution_count": 16,
   "id": "ebe9b94c",
   "metadata": {
    "execution": {
     "iopub.execute_input": "2022-07-28T12:13:53.746487Z",
     "iopub.status.busy": "2022-07-28T12:13:53.745800Z",
     "iopub.status.idle": "2022-07-28T12:13:53.763604Z",
     "shell.execute_reply": "2022-07-28T12:13:53.762979Z"
    },
    "papermill": {
     "duration": 0.032447,
     "end_time": "2022-07-28T12:13:53.765596",
     "exception": false,
     "start_time": "2022-07-28T12:13:53.733149",
     "status": "completed"
    },
    "tags": []
   },
   "outputs": [],
   "source": [
    "test_data['Age'][(test_data.Sex == 'female') & (test_data.Pclass == 3)] = np.where(np.isnan(test_data.Age[(test_data.Sex == 'female') & (test_data.Pclass == 3)]),\n",
    "                                                                                    age_test[2],test_data.Age[(test_data.Sex == 'female') & (test_data.Pclass == 3)])\n",
    "\n",
    "test_data['Age'][(test_data.Sex == 'female') & (test_data.Pclass == 2)] = np.where(np.isnan(test_data.Age[(test_data.Sex == 'female') & (test_data.Pclass == 2)]),\n",
    "                                                                                    age_test[1],test_data.Age[(test_data.Sex == 'female') & (test_data.Pclass == 2)])\n",
    "\n",
    "test_data['Age'][(test_data.Sex == 'female') & (test_data.Pclass == 1)] = np.where(np.isnan(test_data.Age[(test_data.Sex == 'female') & (test_data.Pclass == 1)]),\n",
    "                                                                                    age_test[0],test_data.Age[(test_data.Sex == 'female') & (test_data.Pclass == 1)])"
   ]
  },
  {
   "cell_type": "code",
   "execution_count": 17,
   "id": "960fa260",
   "metadata": {
    "execution": {
     "iopub.execute_input": "2022-07-28T12:13:53.790420Z",
     "iopub.status.busy": "2022-07-28T12:13:53.789833Z",
     "iopub.status.idle": "2022-07-28T12:13:53.807480Z",
     "shell.execute_reply": "2022-07-28T12:13:53.806801Z"
    },
    "papermill": {
     "duration": 0.032307,
     "end_time": "2022-07-28T12:13:53.809450",
     "exception": false,
     "start_time": "2022-07-28T12:13:53.777143",
     "status": "completed"
    },
    "tags": []
   },
   "outputs": [],
   "source": [
    "test_data['Age'][(test_data.Sex == 'male') & (test_data.Pclass == 3)] = np.where(np.isnan(test_data.Age[(test_data.Sex == 'male') & (test_data.Pclass == 3)]),\n",
    "                                                                                    age_test[5],test_data.Age[(test_data.Sex == 'male') & (test_data.Pclass == 3)])\n",
    "\n",
    "test_data['Age'][(test_data.Sex == 'male') & (test_data.Pclass == 2)] = np.where(np.isnan(test_data.Age[(test_data.Sex == 'male') & (test_data.Pclass == 2)]),\n",
    "                                                                                    age_test[4],test_data.Age[(test_data.Sex == 'male') & (test_data.Pclass == 2)])\n",
    "\n",
    "test_data['Age'][(test_data.Sex == 'male') & (test_data.Pclass == 1)] = np.where(np.isnan(test_data.Age[(test_data.Sex == 'male') & (test_data.Pclass == 1)]),\n",
    "                                                                                    age_test[3],test_data.Age[(test_data.Sex == 'male') & (test_data.Pclass == 1)])"
   ]
  },
  {
   "cell_type": "code",
   "execution_count": 18,
   "id": "3f65a877",
   "metadata": {
    "execution": {
     "iopub.execute_input": "2022-07-28T12:13:53.834305Z",
     "iopub.status.busy": "2022-07-28T12:13:53.833713Z",
     "iopub.status.idle": "2022-07-28T12:13:53.841497Z",
     "shell.execute_reply": "2022-07-28T12:13:53.840862Z"
    },
    "papermill": {
     "duration": 0.022055,
     "end_time": "2022-07-28T12:13:53.843043",
     "exception": false,
     "start_time": "2022-07-28T12:13:53.820988",
     "status": "completed"
    },
    "tags": []
   },
   "outputs": [
    {
     "data": {
      "text/plain": [
       "3    479\n",
       "2    168\n",
       "1     40\n",
       "Name: Pclass, dtype: int64"
      ]
     },
     "execution_count": 18,
     "metadata": {},
     "output_type": "execute_result"
    }
   ],
   "source": [
    "# check: when the Pclass = 3, the cabin is NaN or not?\n",
    "train_data[train_data['Cabin'].isnull()].Pclass.value_counts()"
   ]
  },
  {
   "cell_type": "code",
   "execution_count": 19,
   "id": "33f75359",
   "metadata": {
    "execution": {
     "iopub.execute_input": "2022-07-28T12:13:53.868284Z",
     "iopub.status.busy": "2022-07-28T12:13:53.867595Z",
     "iopub.status.idle": "2022-07-28T12:13:53.880440Z",
     "shell.execute_reply": "2022-07-28T12:13:53.879546Z"
    },
    "papermill": {
     "duration": 0.027823,
     "end_time": "2022-07-28T12:13:53.882471",
     "exception": false,
     "start_time": "2022-07-28T12:13:53.854648",
     "status": "completed"
    },
    "tags": []
   },
   "outputs": [
    {
     "name": "stdout",
     "output_type": "stream",
     "text": [
      "<class 'pandas.core.frame.DataFrame'>\n",
      "RangeIndex: 891 entries, 0 to 890\n",
      "Data columns (total 12 columns):\n",
      " #   Column       Non-Null Count  Dtype  \n",
      "---  ------       --------------  -----  \n",
      " 0   PassengerId  891 non-null    int64  \n",
      " 1   Survived     891 non-null    int64  \n",
      " 2   Pclass       891 non-null    int64  \n",
      " 3   Name         891 non-null    object \n",
      " 4   Sex          891 non-null    object \n",
      " 5   Age          891 non-null    float64\n",
      " 6   SibSp        891 non-null    int64  \n",
      " 7   Parch        891 non-null    int64  \n",
      " 8   Ticket       891 non-null    object \n",
      " 9   Fare         891 non-null    float64\n",
      " 10  Cabin        204 non-null    object \n",
      " 11  Embarked     889 non-null    object \n",
      "dtypes: float64(2), int64(5), object(5)\n",
      "memory usage: 83.7+ KB\n"
     ]
    }
   ],
   "source": [
    "train_data.info()"
   ]
  },
  {
   "cell_type": "code",
   "execution_count": 20,
   "id": "7bcb667d",
   "metadata": {
    "execution": {
     "iopub.execute_input": "2022-07-28T12:13:53.908114Z",
     "iopub.status.busy": "2022-07-28T12:13:53.907342Z",
     "iopub.status.idle": "2022-07-28T12:13:53.922797Z",
     "shell.execute_reply": "2022-07-28T12:13:53.921896Z"
    },
    "papermill": {
     "duration": 0.030658,
     "end_time": "2022-07-28T12:13:53.924798",
     "exception": false,
     "start_time": "2022-07-28T12:13:53.894140",
     "status": "completed"
    },
    "tags": []
   },
   "outputs": [
    {
     "data": {
      "text/html": [
       "<div>\n",
       "<style scoped>\n",
       "    .dataframe tbody tr th:only-of-type {\n",
       "        vertical-align: middle;\n",
       "    }\n",
       "\n",
       "    .dataframe tbody tr th {\n",
       "        vertical-align: top;\n",
       "    }\n",
       "\n",
       "    .dataframe thead th {\n",
       "        text-align: right;\n",
       "    }\n",
       "</style>\n",
       "<table border=\"1\" class=\"dataframe\">\n",
       "  <thead>\n",
       "    <tr style=\"text-align: right;\">\n",
       "      <th></th>\n",
       "      <th>PassengerId</th>\n",
       "      <th>Survived</th>\n",
       "      <th>Pclass</th>\n",
       "      <th>Age</th>\n",
       "      <th>SibSp</th>\n",
       "      <th>Parch</th>\n",
       "      <th>Fare</th>\n",
       "    </tr>\n",
       "  </thead>\n",
       "  <tbody>\n",
       "    <tr>\n",
       "      <th>PassengerId</th>\n",
       "      <td>1.000000</td>\n",
       "      <td>-0.005007</td>\n",
       "      <td>-0.035144</td>\n",
       "      <td>0.039636</td>\n",
       "      <td>-0.057527</td>\n",
       "      <td>-0.001652</td>\n",
       "      <td>0.012658</td>\n",
       "    </tr>\n",
       "    <tr>\n",
       "      <th>Survived</th>\n",
       "      <td>-0.005007</td>\n",
       "      <td>1.000000</td>\n",
       "      <td>-0.338481</td>\n",
       "      <td>-0.067485</td>\n",
       "      <td>-0.035322</td>\n",
       "      <td>0.081629</td>\n",
       "      <td>0.257307</td>\n",
       "    </tr>\n",
       "    <tr>\n",
       "      <th>Pclass</th>\n",
       "      <td>-0.035144</td>\n",
       "      <td>-0.338481</td>\n",
       "      <td>1.000000</td>\n",
       "      <td>-0.407015</td>\n",
       "      <td>0.083081</td>\n",
       "      <td>0.018443</td>\n",
       "      <td>-0.549500</td>\n",
       "    </tr>\n",
       "    <tr>\n",
       "      <th>Age</th>\n",
       "      <td>0.039636</td>\n",
       "      <td>-0.067485</td>\n",
       "      <td>-0.407015</td>\n",
       "      <td>1.000000</td>\n",
       "      <td>-0.251313</td>\n",
       "      <td>-0.180705</td>\n",
       "      <td>0.118308</td>\n",
       "    </tr>\n",
       "    <tr>\n",
       "      <th>SibSp</th>\n",
       "      <td>-0.057527</td>\n",
       "      <td>-0.035322</td>\n",
       "      <td>0.083081</td>\n",
       "      <td>-0.251313</td>\n",
       "      <td>1.000000</td>\n",
       "      <td>0.414838</td>\n",
       "      <td>0.159651</td>\n",
       "    </tr>\n",
       "    <tr>\n",
       "      <th>Parch</th>\n",
       "      <td>-0.001652</td>\n",
       "      <td>0.081629</td>\n",
       "      <td>0.018443</td>\n",
       "      <td>-0.180705</td>\n",
       "      <td>0.414838</td>\n",
       "      <td>1.000000</td>\n",
       "      <td>0.216225</td>\n",
       "    </tr>\n",
       "    <tr>\n",
       "      <th>Fare</th>\n",
       "      <td>0.012658</td>\n",
       "      <td>0.257307</td>\n",
       "      <td>-0.549500</td>\n",
       "      <td>0.118308</td>\n",
       "      <td>0.159651</td>\n",
       "      <td>0.216225</td>\n",
       "      <td>1.000000</td>\n",
       "    </tr>\n",
       "  </tbody>\n",
       "</table>\n",
       "</div>"
      ],
      "text/plain": [
       "             PassengerId  Survived    Pclass       Age     SibSp     Parch  \\\n",
       "PassengerId     1.000000 -0.005007 -0.035144  0.039636 -0.057527 -0.001652   \n",
       "Survived       -0.005007  1.000000 -0.338481 -0.067485 -0.035322  0.081629   \n",
       "Pclass         -0.035144 -0.338481  1.000000 -0.407015  0.083081  0.018443   \n",
       "Age             0.039636 -0.067485 -0.407015  1.000000 -0.251313 -0.180705   \n",
       "SibSp          -0.057527 -0.035322  0.083081 -0.251313  1.000000  0.414838   \n",
       "Parch          -0.001652  0.081629  0.018443 -0.180705  0.414838  1.000000   \n",
       "Fare            0.012658  0.257307 -0.549500  0.118308  0.159651  0.216225   \n",
       "\n",
       "                 Fare  \n",
       "PassengerId  0.012658  \n",
       "Survived     0.257307  \n",
       "Pclass      -0.549500  \n",
       "Age          0.118308  \n",
       "SibSp        0.159651  \n",
       "Parch        0.216225  \n",
       "Fare         1.000000  "
      ]
     },
     "execution_count": 20,
     "metadata": {},
     "output_type": "execute_result"
    }
   ],
   "source": [
    "train_data.corr()"
   ]
  },
  {
   "cell_type": "code",
   "execution_count": 21,
   "id": "6aa87612",
   "metadata": {
    "execution": {
     "iopub.execute_input": "2022-07-28T12:13:53.950899Z",
     "iopub.status.busy": "2022-07-28T12:13:53.949948Z",
     "iopub.status.idle": "2022-07-28T12:13:53.956450Z",
     "shell.execute_reply": "2022-07-28T12:13:53.955532Z"
    },
    "papermill": {
     "duration": 0.021458,
     "end_time": "2022-07-28T12:13:53.958342",
     "exception": false,
     "start_time": "2022-07-28T12:13:53.936884",
     "status": "completed"
    },
    "tags": []
   },
   "outputs": [],
   "source": [
    "#Since the NaN value occurs for 3rd Class\n",
    "test_data.Fare.fillna(test_data[test_data.Pclass == 3].Fare.mean(),inplace=True)"
   ]
  },
  {
   "cell_type": "code",
   "execution_count": 22,
   "id": "bb677cd0",
   "metadata": {
    "execution": {
     "iopub.execute_input": "2022-07-28T12:13:53.983992Z",
     "iopub.status.busy": "2022-07-28T12:13:53.983575Z",
     "iopub.status.idle": "2022-07-28T12:13:53.999453Z",
     "shell.execute_reply": "2022-07-28T12:13:53.998750Z"
    },
    "papermill": {
     "duration": 0.031124,
     "end_time": "2022-07-28T12:13:54.001448",
     "exception": false,
     "start_time": "2022-07-28T12:13:53.970324",
     "status": "completed"
    },
    "tags": []
   },
   "outputs": [],
   "source": [
    "features = ['Pclass', 'Sex', 'Age','Fare']\n",
    "train = train_data.iloc[:int(len(train_data)*0.75)]\n",
    "test = train_data.iloc[int(len(train_data)*0.75):]\n",
    "\n",
    "X_train = pd.get_dummies(train[features])\n",
    "X_test = pd.get_dummies(test[features])\n",
    "y_train = train['Survived']\n",
    "y_test = test['Survived']"
   ]
  },
  {
   "cell_type": "code",
   "execution_count": 23,
   "id": "50643c3c",
   "metadata": {
    "execution": {
     "iopub.execute_input": "2022-07-28T12:13:54.027640Z",
     "iopub.status.busy": "2022-07-28T12:13:54.026696Z",
     "iopub.status.idle": "2022-07-28T12:13:55.363009Z",
     "shell.execute_reply": "2022-07-28T12:13:55.361872Z"
    },
    "papermill": {
     "duration": 1.351862,
     "end_time": "2022-07-28T12:13:55.365288",
     "exception": false,
     "start_time": "2022-07-28T12:13:54.013426",
     "status": "completed"
    },
    "tags": []
   },
   "outputs": [
    {
     "name": "stdout",
     "output_type": "stream",
     "text": [
      "0.9805389221556886\n",
      "0.8026905829596412\n"
     ]
    }
   ],
   "source": [
    "from sklearn.metrics import accuracy_score, confusion_matrix, classification_report, roc_auc_score\n",
    "from sklearn.tree import DecisionTreeClassifier\n",
    "clf = DecisionTreeClassifier(random_state=0)\n",
    "clf.fit(X_train,y_train)\n",
    "y_train_predicted = clf.predict(X_train)\n",
    "y_test_predicted = clf.predict(X_test)\n",
    "print(accuracy_score(y_train,y_train_predicted))\n",
    "print(accuracy_score(y_test,y_test_predicted))"
   ]
  },
  {
   "cell_type": "markdown",
   "id": "7a223652",
   "metadata": {
    "papermill": {
     "duration": 0.011686,
     "end_time": "2022-07-28T12:13:55.389346",
     "exception": false,
     "start_time": "2022-07-28T12:13:55.377660",
     "status": "completed"
    },
    "tags": []
   },
   "source": [
    "As we see difeerence between accuracy score of train and test is too high means model is overfitted (because it is accurate for training set but gives large error when we provide test set to the model)"
   ]
  },
  {
   "cell_type": "code",
   "execution_count": 24,
   "id": "8c41fe36",
   "metadata": {
    "execution": {
     "iopub.execute_input": "2022-07-28T12:13:55.415153Z",
     "iopub.status.busy": "2022-07-28T12:13:55.414544Z",
     "iopub.status.idle": "2022-07-28T12:13:55.428670Z",
     "shell.execute_reply": "2022-07-28T12:13:55.427649Z"
    },
    "papermill": {
     "duration": 0.030165,
     "end_time": "2022-07-28T12:13:55.431539",
     "exception": false,
     "start_time": "2022-07-28T12:13:55.401374",
     "status": "completed"
    },
    "tags": []
   },
   "outputs": [
    {
     "name": "stdout",
     "output_type": "stream",
     "text": [
      "              precision    recall  f1-score   support\n",
      "\n",
      "           0       0.86      0.82      0.84       141\n",
      "           1       0.72      0.77      0.74        82\n",
      "\n",
      "    accuracy                           0.80       223\n",
      "   macro avg       0.79      0.80      0.79       223\n",
      "weighted avg       0.81      0.80      0.80       223\n",
      "\n",
      "[[116  25]\n",
      " [ 19  63]]\n"
     ]
    }
   ],
   "source": [
    "print(classification_report(y_test,clf.predict(X_test)))\n",
    "print(confusion_matrix(y_test,clf.predict(X_test)))"
   ]
  },
  {
   "cell_type": "code",
   "execution_count": 25,
   "id": "45c25184",
   "metadata": {
    "execution": {
     "iopub.execute_input": "2022-07-28T12:13:55.458876Z",
     "iopub.status.busy": "2022-07-28T12:13:55.458181Z",
     "iopub.status.idle": "2022-07-28T12:13:55.464643Z",
     "shell.execute_reply": "2022-07-28T12:13:55.463967Z"
    },
    "papermill": {
     "duration": 0.021638,
     "end_time": "2022-07-28T12:13:55.466386",
     "exception": false,
     "start_time": "2022-07-28T12:13:55.444748",
     "status": "completed"
    },
    "tags": []
   },
   "outputs": [
    {
     "data": {
      "text/plain": [
       "{'ccp_alpha': 0.0,\n",
       " 'class_weight': None,\n",
       " 'criterion': 'gini',\n",
       " 'max_depth': None,\n",
       " 'max_features': None,\n",
       " 'max_leaf_nodes': None,\n",
       " 'min_impurity_decrease': 0.0,\n",
       " 'min_samples_leaf': 1,\n",
       " 'min_samples_split': 2,\n",
       " 'min_weight_fraction_leaf': 0.0,\n",
       " 'random_state': 0,\n",
       " 'splitter': 'best'}"
      ]
     },
     "execution_count": 25,
     "metadata": {},
     "output_type": "execute_result"
    }
   ],
   "source": [
    "clf.get_params(deep=True)"
   ]
  },
  {
   "cell_type": "markdown",
   "id": "d755a838",
   "metadata": {
    "papermill": {
     "duration": 0.01217,
     "end_time": "2022-07-28T12:13:55.490573",
     "exception": false,
     "start_time": "2022-07-28T12:13:55.478403",
     "status": "completed"
    },
    "tags": []
   },
   "source": [
    "### Pre-Pruning: Hyperparameter tuning of Decision Tree"
   ]
  },
  {
   "cell_type": "code",
   "execution_count": 26,
   "id": "40ddc94c",
   "metadata": {
    "execution": {
     "iopub.execute_input": "2022-07-28T12:13:55.517204Z",
     "iopub.status.busy": "2022-07-28T12:13:55.516503Z",
     "iopub.status.idle": "2022-07-28T12:13:55.521543Z",
     "shell.execute_reply": "2022-07-28T12:13:55.520978Z"
    },
    "papermill": {
     "duration": 0.020431,
     "end_time": "2022-07-28T12:13:55.523249",
     "exception": false,
     "start_time": "2022-07-28T12:13:55.502818",
     "status": "completed"
    },
    "tags": []
   },
   "outputs": [],
   "source": [
    "params = {\n",
    "    'max_depth': [2, 3, 5, 10, 20],\n",
    "    'min_samples_leaf': [1, 2, 5, 10,15, 20],\n",
    "    'criterion': [\"gini\", \"entropy\"],\n",
    "    'min_samples_split' : [1,5,10,15,20,25,30,35,40]\n",
    "}"
   ]
  },
  {
   "cell_type": "code",
   "execution_count": 27,
   "id": "253b3ba7",
   "metadata": {
    "execution": {
     "iopub.execute_input": "2022-07-28T12:13:55.549560Z",
     "iopub.status.busy": "2022-07-28T12:13:55.548840Z",
     "iopub.status.idle": "2022-07-28T12:13:55.553736Z",
     "shell.execute_reply": "2022-07-28T12:13:55.553100Z"
    },
    "papermill": {
     "duration": 0.020286,
     "end_time": "2022-07-28T12:13:55.555565",
     "exception": false,
     "start_time": "2022-07-28T12:13:55.535279",
     "status": "completed"
    },
    "tags": []
   },
   "outputs": [],
   "source": [
    "from sklearn.model_selection import GridSearchCV\n",
    "grid_search = GridSearchCV(estimator=clf, \n",
    "                           param_grid=params, \n",
    "                           cv=4, n_jobs=-1, verbose=1, scoring = \"accuracy\")"
   ]
  },
  {
   "cell_type": "code",
   "execution_count": 28,
   "id": "632b7923",
   "metadata": {
    "execution": {
     "iopub.execute_input": "2022-07-28T12:13:55.582044Z",
     "iopub.status.busy": "2022-07-28T12:13:55.581342Z",
     "iopub.status.idle": "2022-07-28T12:14:01.513511Z",
     "shell.execute_reply": "2022-07-28T12:14:01.512684Z"
    },
    "papermill": {
     "duration": 5.948084,
     "end_time": "2022-07-28T12:14:01.515765",
     "exception": false,
     "start_time": "2022-07-28T12:13:55.567681",
     "status": "completed"
    },
    "tags": []
   },
   "outputs": [
    {
     "name": "stdout",
     "output_type": "stream",
     "text": [
      "Fitting 4 folds for each of 540 candidates, totalling 2160 fits\n"
     ]
    },
    {
     "data": {
      "text/plain": [
       "GridSearchCV(cv=4, estimator=DecisionTreeClassifier(random_state=0), n_jobs=-1,\n",
       "             param_grid={'criterion': ['gini', 'entropy'],\n",
       "                         'max_depth': [2, 3, 5, 10, 20],\n",
       "                         'min_samples_leaf': [1, 2, 5, 10, 15, 20],\n",
       "                         'min_samples_split': [1, 5, 10, 15, 20, 25, 30, 35,\n",
       "                                               40]},\n",
       "             scoring='accuracy', verbose=1)"
      ]
     },
     "execution_count": 28,
     "metadata": {},
     "output_type": "execute_result"
    }
   ],
   "source": [
    "grid_search.fit(X_train,y_train)"
   ]
  },
  {
   "cell_type": "code",
   "execution_count": 29,
   "id": "9f786dd6",
   "metadata": {
    "execution": {
     "iopub.execute_input": "2022-07-28T12:14:01.545497Z",
     "iopub.status.busy": "2022-07-28T12:14:01.544826Z",
     "iopub.status.idle": "2022-07-28T12:14:01.550248Z",
     "shell.execute_reply": "2022-07-28T12:14:01.549666Z"
    },
    "papermill": {
     "duration": 0.021696,
     "end_time": "2022-07-28T12:14:01.551834",
     "exception": false,
     "start_time": "2022-07-28T12:14:01.530138",
     "status": "completed"
    },
    "tags": []
   },
   "outputs": [
    {
     "data": {
      "text/plain": [
       "{'criterion': 'gini',\n",
       " 'max_depth': 10,\n",
       " 'min_samples_leaf': 10,\n",
       " 'min_samples_split': 5}"
      ]
     },
     "execution_count": 29,
     "metadata": {},
     "output_type": "execute_result"
    }
   ],
   "source": [
    "grid_search.best_params_"
   ]
  },
  {
   "cell_type": "code",
   "execution_count": 30,
   "id": "732b4308",
   "metadata": {
    "execution": {
     "iopub.execute_input": "2022-07-28T12:14:01.578911Z",
     "iopub.status.busy": "2022-07-28T12:14:01.578271Z",
     "iopub.status.idle": "2022-07-28T12:14:01.583771Z",
     "shell.execute_reply": "2022-07-28T12:14:01.582867Z"
    },
    "papermill": {
     "duration": 0.021141,
     "end_time": "2022-07-28T12:14:01.585571",
     "exception": false,
     "start_time": "2022-07-28T12:14:01.564430",
     "status": "completed"
    },
    "tags": []
   },
   "outputs": [
    {
     "data": {
      "text/plain": [
       "0.812874251497006"
      ]
     },
     "execution_count": 30,
     "metadata": {},
     "output_type": "execute_result"
    }
   ],
   "source": [
    "grid_search.best_score_"
   ]
  },
  {
   "cell_type": "code",
   "execution_count": 31,
   "id": "46181f9d",
   "metadata": {
    "execution": {
     "iopub.execute_input": "2022-07-28T12:14:01.612585Z",
     "iopub.status.busy": "2022-07-28T12:14:01.612194Z",
     "iopub.status.idle": "2022-07-28T12:14:01.625752Z",
     "shell.execute_reply": "2022-07-28T12:14:01.624612Z"
    },
    "papermill": {
     "duration": 0.030095,
     "end_time": "2022-07-28T12:14:01.628351",
     "exception": false,
     "start_time": "2022-07-28T12:14:01.598256",
     "status": "completed"
    },
    "tags": []
   },
   "outputs": [
    {
     "name": "stdout",
     "output_type": "stream",
     "text": [
      "              precision    recall  f1-score   support\n",
      "\n",
      "           0       0.82      0.91      0.87       141\n",
      "           1       0.82      0.66      0.73        82\n",
      "\n",
      "    accuracy                           0.82       223\n",
      "   macro avg       0.82      0.79      0.80       223\n",
      "weighted avg       0.82      0.82      0.82       223\n",
      "\n",
      "[[129  12]\n",
      " [ 28  54]]\n"
     ]
    }
   ],
   "source": [
    "print(classification_report(y_test,grid_search.best_estimator_.predict(X_test)))\n",
    "print(confusion_matrix(y_test,grid_search.best_estimator_.predict(X_test)))"
   ]
  },
  {
   "cell_type": "markdown",
   "id": "b4e9eaff",
   "metadata": {
    "execution": {
     "iopub.execute_input": "2022-07-28T10:10:01.609411Z",
     "iopub.status.busy": "2022-07-28T10:10:01.608079Z",
     "iopub.status.idle": "2022-07-28T10:10:01.613649Z",
     "shell.execute_reply": "2022-07-28T10:10:01.612655Z",
     "shell.execute_reply.started": "2022-07-28T10:10:01.609353Z"
    },
    "papermill": {
     "duration": 0.012227,
     "end_time": "2022-07-28T12:14:01.654121",
     "exception": false,
     "start_time": "2022-07-28T12:14:01.641894",
     "status": "completed"
    },
    "tags": []
   },
   "source": [
    "### Pre Pruning: Another round of Grid Search"
   ]
  },
  {
   "cell_type": "code",
   "execution_count": 32,
   "id": "efd580d2",
   "metadata": {
    "execution": {
     "iopub.execute_input": "2022-07-28T12:14:01.681169Z",
     "iopub.status.busy": "2022-07-28T12:14:01.680460Z",
     "iopub.status.idle": "2022-07-28T12:22:15.319966Z",
     "shell.execute_reply": "2022-07-28T12:22:15.318971Z"
    },
    "papermill": {
     "duration": 493.655943,
     "end_time": "2022-07-28T12:22:15.322471",
     "exception": false,
     "start_time": "2022-07-28T12:14:01.666528",
     "status": "completed"
    },
    "tags": []
   },
   "outputs": [],
   "source": [
    "grid_param = {'criterion' : ['gini','entropy'],\n",
    "             'splitter' : ['best', 'random'],\n",
    "             'max_depth' : range(2,50,1),\n",
    "             'min_samples_leaf': range(1,15,1),\n",
    "             'min_samples_split':range(2,20,1)}\n",
    "\n",
    "grid_search_2 = GridSearchCV(estimator=clf,\n",
    "                          param_grid=grid_param,\n",
    "                          cv=5,\n",
    "                          n_jobs=-1, scoring='accuracy')\n",
    "clf_dt_final = grid_search_2.fit(X_train,y_train)"
   ]
  },
  {
   "cell_type": "code",
   "execution_count": 33,
   "id": "97556cb9",
   "metadata": {
    "execution": {
     "iopub.execute_input": "2022-07-28T12:22:15.349826Z",
     "iopub.status.busy": "2022-07-28T12:22:15.349460Z",
     "iopub.status.idle": "2022-07-28T12:22:15.355273Z",
     "shell.execute_reply": "2022-07-28T12:22:15.354356Z"
    },
    "papermill": {
     "duration": 0.021466,
     "end_time": "2022-07-28T12:22:15.357139",
     "exception": false,
     "start_time": "2022-07-28T12:22:15.335673",
     "status": "completed"
    },
    "tags": []
   },
   "outputs": [
    {
     "data": {
      "text/plain": [
       "{'criterion': 'gini',\n",
       " 'max_depth': 12,\n",
       " 'min_samples_leaf': 1,\n",
       " 'min_samples_split': 6,\n",
       " 'splitter': 'random'}"
      ]
     },
     "execution_count": 33,
     "metadata": {},
     "output_type": "execute_result"
    }
   ],
   "source": [
    "clf_dt_final.best_params_"
   ]
  },
  {
   "cell_type": "code",
   "execution_count": 34,
   "id": "efd815b8",
   "metadata": {
    "execution": {
     "iopub.execute_input": "2022-07-28T12:22:15.384493Z",
     "iopub.status.busy": "2022-07-28T12:22:15.383779Z",
     "iopub.status.idle": "2022-07-28T12:22:15.399108Z",
     "shell.execute_reply": "2022-07-28T12:22:15.397684Z"
    },
    "papermill": {
     "duration": 0.031188,
     "end_time": "2022-07-28T12:22:15.401134",
     "exception": false,
     "start_time": "2022-07-28T12:22:15.369946",
     "status": "completed"
    },
    "tags": []
   },
   "outputs": [
    {
     "name": "stdout",
     "output_type": "stream",
     "text": [
      "              precision    recall  f1-score   support\n",
      "\n",
      "           0       0.83      0.88      0.85       141\n",
      "           1       0.77      0.68      0.72        82\n",
      "\n",
      "    accuracy                           0.81       223\n",
      "   macro avg       0.80      0.78      0.79       223\n",
      "weighted avg       0.80      0.81      0.80       223\n",
      "\n",
      "[[124  17]\n",
      " [ 26  56]]\n"
     ]
    }
   ],
   "source": [
    "print(classification_report(y_test,clf_dt_final.best_estimator_.predict(X_test)))\n",
    "print(confusion_matrix(y_test,clf_dt_final.best_estimator_.predict(X_test)))"
   ]
  },
  {
   "cell_type": "markdown",
   "id": "c656bf70",
   "metadata": {
    "papermill": {
     "duration": 0.012486,
     "end_time": "2022-07-28T12:22:15.426378",
     "exception": false,
     "start_time": "2022-07-28T12:22:15.413892",
     "status": "completed"
    },
    "tags": []
   },
   "source": [
    "From the above 2 rounds of Pruning we did not get satisfactory results. So we will try Post - Pruning method."
   ]
  },
  {
   "cell_type": "code",
   "execution_count": 35,
   "id": "22d9ef1a",
   "metadata": {
    "execution": {
     "iopub.execute_input": "2022-07-28T12:22:15.453535Z",
     "iopub.status.busy": "2022-07-28T12:22:15.453162Z",
     "iopub.status.idle": "2022-07-28T12:22:28.404034Z",
     "shell.execute_reply": "2022-07-28T12:22:28.403019Z"
    },
    "papermill": {
     "duration": 12.967047,
     "end_time": "2022-07-28T12:22:28.406144",
     "exception": false,
     "start_time": "2022-07-28T12:22:15.439097",
     "status": "completed"
    },
    "tags": []
   },
   "outputs": [
    {
     "data": {
      "image/png": "[encoded data removed]",
      "text/plain": [
       "<Figure size 1152x576 with 1 Axes>"
      ]
     },
     "metadata": {
      "needs_background": "light"
     },
     "output_type": "display_data"
    }
   ],
   "source": [
    "from sklearn import tree\n",
    "import matplotlib.pyplot as plt\n",
    "\n",
    "plt.figure(figsize=(16,8))\n",
    "tree.plot_tree(clf)\n",
    "plt.show()"
   ]
  },
  {
   "cell_type": "markdown",
   "id": "22b55da9",
   "metadata": {
    "execution": {
     "iopub.execute_input": "2022-07-14T11:34:16.165949Z",
     "iopub.status.busy": "2022-07-14T11:34:16.164947Z",
     "iopub.status.idle": "2022-07-14T11:34:16.173258Z",
     "shell.execute_reply": "2022-07-14T11:34:16.172500Z",
     "shell.execute_reply.started": "2022-07-14T11:34:16.165906Z"
    },
    "papermill": {
     "duration": 0.013632,
     "end_time": "2022-07-28T12:22:28.434067",
     "exception": false,
     "start_time": "2022-07-28T12:22:28.420435",
     "status": "completed"
    },
    "tags": []
   },
   "source": [
    "### Post Pruning"
   ]
  },
  {
   "cell_type": "code",
   "execution_count": 36,
   "id": "172dcc06",
   "metadata": {
    "execution": {
     "iopub.execute_input": "2022-07-28T12:22:28.464257Z",
     "iopub.status.busy": "2022-07-28T12:22:28.463247Z",
     "iopub.status.idle": "2022-07-28T12:22:28.475605Z",
     "shell.execute_reply": "2022-07-28T12:22:28.474556Z"
    },
    "papermill": {
     "duration": 0.029905,
     "end_time": "2022-07-28T12:22:28.477904",
     "exception": false,
     "start_time": "2022-07-28T12:22:28.447999",
     "status": "completed"
    },
    "tags": []
   },
   "outputs": [
    {
     "name": "stdout",
     "output_type": "stream",
     "text": [
      "ccp alpha will give list of values : [0.00000000e+00 1.24750499e-04 1.99600798e-04 2.49500998e-04\n",
      " 2.99401198e-04 4.40295879e-04 4.49101796e-04 4.99001996e-04\n",
      " 4.99001996e-04 4.99001996e-04 6.69713205e-04 6.98602794e-04\n",
      " 7.48502994e-04 7.50635481e-04 7.69888794e-04 8.31669993e-04\n",
      " 8.31669993e-04 1.01582549e-03 1.12275449e-03 1.12275449e-03\n",
      " 1.13033673e-03 1.14287554e-03 1.19760479e-03 1.19760479e-03\n",
      " 1.20869372e-03 1.23562399e-03 1.26829674e-03 1.26990601e-03\n",
      " 1.29538902e-03 1.33067199e-03 1.34730539e-03 1.36091453e-03\n",
      " 1.37225549e-03 1.43934012e-03 1.45022455e-03 1.47592140e-03\n",
      " 1.47621424e-03 1.48779364e-03 1.49700599e-03 1.55283838e-03\n",
      " 1.63876792e-03 1.68413174e-03 1.68892983e-03 1.79813511e-03\n",
      " 1.85782282e-03 1.92512453e-03 1.96397745e-03 2.24550898e-03\n",
      " 2.24550898e-03 2.26819089e-03 2.32035928e-03 2.32867598e-03\n",
      " 2.56629598e-03 2.64177527e-03 2.64927575e-03 2.74451098e-03\n",
      " 2.80931643e-03 2.99401198e-03 3.00062753e-03 4.18924356e-03\n",
      " 5.67989205e-03 7.54740519e-03 7.54740519e-03 9.31654253e-03\n",
      " 9.33769498e-03 9.51304447e-03 3.38893544e-02 1.41301054e-01]\n",
      "Impurities in Decision Tree : [0.02237192 0.02262142 0.02282102 0.02307053 0.02366933 0.02499022\n",
      " 0.02588842 0.02638742 0.02688642 0.02738543 0.02872485 0.03082066\n",
      " 0.03231767 0.03456957 0.03610935 0.03860436 0.04109937 0.04313102\n",
      " 0.04537653 0.04986755 0.06117092 0.06917104 0.07036865 0.07276386\n",
      " 0.07638994 0.08009681 0.0839017  0.08644151 0.09032768 0.09698104\n",
      " 0.09967565 0.10239748 0.10514199 0.10658133 0.10948178 0.11243362\n",
      " 0.11538605 0.12282502 0.12432203 0.12898054 0.13225808 0.13562634\n",
      " 0.14069313 0.16227075 0.1659864  0.17561202 0.17953997 0.18178548\n",
      " 0.18403099 0.18629918 0.19326026 0.19558894 0.19815523 0.20343878\n",
      " 0.21403589 0.2167804  0.21958971 0.22258373 0.23158561 0.2399641\n",
      " 0.25700377 0.26455118 0.27209858 0.28141513 0.29075282 0.30026586\n",
      " 0.33415522 0.47545627]\n"
     ]
    }
   ],
   "source": [
    "path = clf.cost_complexity_pruning_path(X_train,y_train)\n",
    "# path variables gives 2 things ccp_alpha and impurities\n",
    "ccp_alphas, impurities = path.ccp_alphas, path.impurities\n",
    "print('ccp alpha will give list of values :',ccp_alphas)\n",
    "print('Impurities in Decision Tree :',impurities)\n"
   ]
  },
  {
   "cell_type": "code",
   "execution_count": 37,
   "id": "103b6fd6",
   "metadata": {
    "execution": {
     "iopub.execute_input": "2022-07-28T12:22:28.509187Z",
     "iopub.status.busy": "2022-07-28T12:22:28.508755Z",
     "iopub.status.idle": "2022-07-28T12:22:28.701635Z",
     "shell.execute_reply": "2022-07-28T12:22:28.700469Z"
    },
    "papermill": {
     "duration": 0.210944,
     "end_time": "2022-07-28T12:22:28.704026",
     "exception": false,
     "start_time": "2022-07-28T12:22:28.493082",
     "status": "completed"
    },
    "tags": []
   },
   "outputs": [],
   "source": [
    "clfs = [] #will store all the models\n",
    "\n",
    "for ccp_alpha in ccp_alphas:\n",
    "    clf = DecisionTreeClassifier(random_state=0, ccp_alpha=ccp_alpha)\n",
    "    clf.fit(X_train,y_train)\n",
    "    clfs.append(clf)\n",
    "    "
   ]
  },
  {
   "cell_type": "code",
   "execution_count": 38,
   "id": "5f4c9fc1",
   "metadata": {
    "execution": {
     "iopub.execute_input": "2022-07-28T12:22:28.734544Z",
     "iopub.status.busy": "2022-07-28T12:22:28.733797Z",
     "iopub.status.idle": "2022-07-28T12:22:29.142609Z",
     "shell.execute_reply": "2022-07-28T12:22:29.141926Z"
    },
    "papermill": {
     "duration": 0.425759,
     "end_time": "2022-07-28T12:22:29.144223",
     "exception": false,
     "start_time": "2022-07-28T12:22:28.718464",
     "status": "completed"
    },
    "tags": []
   },
   "outputs": [
    {
     "data": {
      "image/png": "[encoded data removed]",
      "text/plain": [
       "<Figure size 432x288 with 1 Axes>"
      ]
     },
     "metadata": {
      "needs_background": "light"
     },
     "output_type": "display_data"
    }
   ],
   "source": [
    "train_scores = [clf.score(X_train, y_train) for clf in clfs]\n",
    "test_scores = [clf.score(X_test, y_test) for clf in clfs]\n",
    "\n",
    "fig, ax = plt.subplots()\n",
    "ax.set_xlabel(\"alpha\")\n",
    "ax.set_ylabel(\"accuracy\")\n",
    "ax.set_title(\"Accuracy vs alpha for training and testing sets\")\n",
    "ax.plot(ccp_alphas, train_scores, marker='o', label=\"train\",drawstyle=\"steps-post\")\n",
    "ax.plot(ccp_alphas, test_scores, marker='o', label=\"test\",drawstyle=\"steps-post\")\n",
    "ax.legend()\n",
    "plt.show()"
   ]
  },
  {
   "cell_type": "code",
   "execution_count": 39,
   "id": "71d01b31",
   "metadata": {
    "execution": {
     "iopub.execute_input": "2022-07-28T12:22:29.176322Z",
     "iopub.status.busy": "2022-07-28T12:22:29.175312Z",
     "iopub.status.idle": "2022-07-28T12:22:30.140754Z",
     "shell.execute_reply": "2022-07-28T12:22:30.139824Z"
    },
    "papermill": {
     "duration": 0.983418,
     "end_time": "2022-07-28T12:22:30.142975",
     "exception": false,
     "start_time": "2022-07-28T12:22:29.159557",
     "status": "completed"
    },
    "tags": []
   },
   "outputs": [
    {
     "data": {
      "image/png": "[encoded data removed]",
      "text/plain": [
       "<Figure size 864x576 with 1 Axes>"
      ]
     },
     "metadata": {
      "needs_background": "light"
     },
     "output_type": "display_data"
    }
   ],
   "source": [
    "clf=DecisionTreeClassifier(random_state=0,ccp_alpha=0.005)\n",
    "clf.fit(X_train,y_train)\n",
    "plt.figure(figsize=(12,8))\n",
    "tree.plot_tree(clf,rounded=True,filled=True)\n",
    "plt.show()"
   ]
  },
  {
   "cell_type": "code",
   "execution_count": 40,
   "id": "072630a4",
   "metadata": {
    "execution": {
     "iopub.execute_input": "2022-07-28T12:22:30.176886Z",
     "iopub.status.busy": "2022-07-28T12:22:30.176383Z",
     "iopub.status.idle": "2022-07-28T12:22:30.184279Z",
     "shell.execute_reply": "2022-07-28T12:22:30.183169Z"
    },
    "papermill": {
     "duration": 0.026905,
     "end_time": "2022-07-28T12:22:30.186207",
     "exception": false,
     "start_time": "2022-07-28T12:22:30.159302",
     "status": "completed"
    },
    "tags": []
   },
   "outputs": [
    {
     "data": {
      "text/plain": [
       "0.852017937219731"
      ]
     },
     "execution_count": 40,
     "metadata": {},
     "output_type": "execute_result"
    }
   ],
   "source": [
    "accuracy_score(y_test,clf.predict(X_test))"
   ]
  },
  {
   "cell_type": "code",
   "execution_count": 41,
   "id": "27496aba",
   "metadata": {
    "execution": {
     "iopub.execute_input": "2022-07-28T12:22:30.220760Z",
     "iopub.status.busy": "2022-07-28T12:22:30.220332Z",
     "iopub.status.idle": "2022-07-28T12:22:30.234876Z",
     "shell.execute_reply": "2022-07-28T12:22:30.233983Z"
    },
    "papermill": {
     "duration": 0.034231,
     "end_time": "2022-07-28T12:22:30.236752",
     "exception": false,
     "start_time": "2022-07-28T12:22:30.202521",
     "status": "completed"
    },
    "tags": []
   },
   "outputs": [
    {
     "name": "stdout",
     "output_type": "stream",
     "text": [
      "              precision    recall  f1-score   support\n",
      "\n",
      "           0       0.85      0.94      0.89       141\n",
      "           1       0.87      0.71      0.78        82\n",
      "\n",
      "    accuracy                           0.85       223\n",
      "   macro avg       0.86      0.82      0.83       223\n",
      "weighted avg       0.85      0.85      0.85       223\n",
      "\n",
      "[[132   9]\n",
      " [ 24  58]]\n"
     ]
    }
   ],
   "source": [
    "print(classification_report(y_test,clf.predict(X_test)))\n",
    "print(confusion_matrix(y_test,clf.predict(X_test)))"
   ]
  },
  {
   "cell_type": "markdown",
   "id": "183c1b76",
   "metadata": {
    "papermill": {
     "duration": 0.015919,
     "end_time": "2022-07-28T12:22:30.268945",
     "exception": false,
     "start_time": "2022-07-28T12:22:30.253026",
     "status": "completed"
    },
    "tags": []
   },
   "source": [
    "We can clearly see there is an improvement in the accuracy score. But, to get better results we will try Random Forest."
   ]
  },
  {
   "cell_type": "markdown",
   "id": "4a77fe6e",
   "metadata": {
    "papermill": {
     "duration": 0.015809,
     "end_time": "2022-07-28T12:22:30.301452",
     "exception": false,
     "start_time": "2022-07-28T12:22:30.285643",
     "status": "completed"
    },
    "tags": []
   },
   "source": [
    "### Random Forest"
   ]
  },
  {
   "cell_type": "code",
   "execution_count": 42,
   "id": "01d20914",
   "metadata": {
    "execution": {
     "iopub.execute_input": "2022-07-28T12:22:30.335596Z",
     "iopub.status.busy": "2022-07-28T12:22:30.334818Z",
     "iopub.status.idle": "2022-07-28T12:22:30.596157Z",
     "shell.execute_reply": "2022-07-28T12:22:30.595336Z"
    },
    "papermill": {
     "duration": 0.280917,
     "end_time": "2022-07-28T12:22:30.598348",
     "exception": false,
     "start_time": "2022-07-28T12:22:30.317431",
     "status": "completed"
    },
    "tags": []
   },
   "outputs": [
    {
     "data": {
      "text/plain": [
       "RandomForestClassifier(random_state=0)"
      ]
     },
     "execution_count": 42,
     "metadata": {},
     "output_type": "execute_result"
    }
   ],
   "source": [
    "from sklearn.ensemble import RandomForestClassifier\n",
    "clf_rf = RandomForestClassifier(random_state=0)\n",
    "clf_rf.fit(X_train,y_train)"
   ]
  },
  {
   "cell_type": "code",
   "execution_count": 43,
   "id": "67f6f5ce",
   "metadata": {
    "execution": {
     "iopub.execute_input": "2022-07-28T12:22:30.633061Z",
     "iopub.status.busy": "2022-07-28T12:22:30.632391Z",
     "iopub.status.idle": "2022-07-28T12:22:30.674475Z",
     "shell.execute_reply": "2022-07-28T12:22:30.673114Z"
    },
    "papermill": {
     "duration": 0.062458,
     "end_time": "2022-07-28T12:22:30.677282",
     "exception": false,
     "start_time": "2022-07-28T12:22:30.614824",
     "status": "completed"
    },
    "tags": []
   },
   "outputs": [
    {
     "name": "stdout",
     "output_type": "stream",
     "text": [
      "              precision    recall  f1-score   support\n",
      "\n",
      "           0       0.87      0.87      0.87       141\n",
      "           1       0.77      0.77      0.77        82\n",
      "\n",
      "    accuracy                           0.83       223\n",
      "   macro avg       0.82      0.82      0.82       223\n",
      "weighted avg       0.83      0.83      0.83       223\n",
      "\n",
      "[[122  19]\n",
      " [ 19  63]]\n"
     ]
    }
   ],
   "source": [
    "print(classification_report(y_test,clf_rf.predict(X_test)))\n",
    "print(confusion_matrix(y_test,clf_rf.predict(X_test)))"
   ]
  },
  {
   "cell_type": "code",
   "execution_count": 44,
   "id": "49f839be",
   "metadata": {
    "execution": {
     "iopub.execute_input": "2022-07-28T12:22:30.716521Z",
     "iopub.status.busy": "2022-07-28T12:22:30.715887Z",
     "iopub.status.idle": "2022-07-28T12:22:30.722757Z",
     "shell.execute_reply": "2022-07-28T12:22:30.721894Z"
    },
    "papermill": {
     "duration": 0.028979,
     "end_time": "2022-07-28T12:22:30.724998",
     "exception": false,
     "start_time": "2022-07-28T12:22:30.696019",
     "status": "completed"
    },
    "tags": []
   },
   "outputs": [
    {
     "data": {
      "text/plain": [
       "{'bootstrap': True,\n",
       " 'ccp_alpha': 0.0,\n",
       " 'class_weight': None,\n",
       " 'criterion': 'gini',\n",
       " 'max_depth': None,\n",
       " 'max_features': 'auto',\n",
       " 'max_leaf_nodes': None,\n",
       " 'max_samples': None,\n",
       " 'min_impurity_decrease': 0.0,\n",
       " 'min_samples_leaf': 1,\n",
       " 'min_samples_split': 2,\n",
       " 'min_weight_fraction_leaf': 0.0,\n",
       " 'n_estimators': 100,\n",
       " 'n_jobs': None,\n",
       " 'oob_score': False,\n",
       " 'random_state': 0,\n",
       " 'verbose': 0,\n",
       " 'warm_start': False}"
      ]
     },
     "execution_count": 44,
     "metadata": {},
     "output_type": "execute_result"
    }
   ],
   "source": [
    "clf_rf.get_params(deep=True)"
   ]
  },
  {
   "cell_type": "markdown",
   "id": "95d228bb",
   "metadata": {
    "papermill": {
     "duration": 0.016154,
     "end_time": "2022-07-28T12:22:30.760685",
     "exception": false,
     "start_time": "2022-07-28T12:22:30.744531",
     "status": "completed"
    },
    "tags": []
   },
   "source": [
    "Random Forest is better than the Decision Tree, we wil try **Hyperparameter Tuning**."
   ]
  },
  {
   "cell_type": "code",
   "execution_count": 45,
   "id": "a91bd52a",
   "metadata": {
    "execution": {
     "iopub.execute_input": "2022-07-28T12:22:30.797611Z",
     "iopub.status.busy": "2022-07-28T12:22:30.797060Z",
     "iopub.status.idle": "2022-07-28T12:36:25.412465Z",
     "shell.execute_reply": "2022-07-28T12:36:25.411356Z"
    },
    "papermill": {
     "duration": 834.637274,
     "end_time": "2022-07-28T12:36:25.415104",
     "exception": false,
     "start_time": "2022-07-28T12:22:30.777830",
     "status": "completed"
    },
    "tags": []
   },
   "outputs": [],
   "source": [
    "param_grid = {\n",
    "    'bootstrap': [True,False],\n",
    "    'max_depth': [50,60,70,None],\n",
    "    'max_features': ['auto'],\n",
    "    'min_samples_leaf': [1,2,3,4,5],\n",
    "    'min_samples_split': [1,3,5,10,15],\n",
    "    'n_estimators': [100,200,300,400,500,1000]\n",
    "}\n",
    "\n",
    "# Create a base model\n",
    "rf = RandomForestClassifier(random_state = 42)\n",
    "\n",
    "# Instantiate the grid search model\n",
    "grid_search_rf = GridSearchCV(estimator = rf, param_grid = param_grid, \n",
    "                              cv = 3, n_jobs = -1,\n",
    "                              return_train_score=True)\n",
    "\n",
    "grid_search_rf.fit(X_train,y_train);"
   ]
  },
  {
   "cell_type": "code",
   "execution_count": 46,
   "id": "151271e6",
   "metadata": {
    "execution": {
     "iopub.execute_input": "2022-07-28T12:36:25.451290Z",
     "iopub.status.busy": "2022-07-28T12:36:25.450854Z",
     "iopub.status.idle": "2022-07-28T12:36:25.456917Z",
     "shell.execute_reply": "2022-07-28T12:36:25.456062Z"
    },
    "papermill": {
     "duration": 0.026071,
     "end_time": "2022-07-28T12:36:25.458832",
     "exception": false,
     "start_time": "2022-07-28T12:36:25.432761",
     "status": "completed"
    },
    "tags": []
   },
   "outputs": [
    {
     "data": {
      "text/plain": [
       "{'bootstrap': False,\n",
       " 'max_depth': 50,\n",
       " 'max_features': 'auto',\n",
       " 'min_samples_leaf': 2,\n",
       " 'min_samples_split': 15,\n",
       " 'n_estimators': 200}"
      ]
     },
     "execution_count": 46,
     "metadata": {},
     "output_type": "execute_result"
    }
   ],
   "source": [
    "grid_search_rf.best_params_"
   ]
  },
  {
   "cell_type": "code",
   "execution_count": 47,
   "id": "1f1e5b6a",
   "metadata": {
    "execution": {
     "iopub.execute_input": "2022-07-28T12:36:25.493687Z",
     "iopub.status.busy": "2022-07-28T12:36:25.493310Z",
     "iopub.status.idle": "2022-07-28T12:36:26.218839Z",
     "shell.execute_reply": "2022-07-28T12:36:26.217706Z"
    },
    "papermill": {
     "duration": 0.746035,
     "end_time": "2022-07-28T12:36:26.221361",
     "exception": false,
     "start_time": "2022-07-28T12:36:25.475326",
     "status": "completed"
    },
    "tags": []
   },
   "outputs": [
    {
     "name": "stdout",
     "output_type": "stream",
     "text": [
      "              precision    recall  f1-score   support\n",
      "\n",
      "           0       0.87      0.92      0.89       141\n",
      "           1       0.85      0.76      0.80        82\n",
      "\n",
      "    accuracy                           0.86       223\n",
      "   macro avg       0.86      0.84      0.85       223\n",
      "weighted avg       0.86      0.86      0.86       223\n",
      "\n",
      "[[130  11]\n",
      " [ 20  62]]\n"
     ]
    }
   ],
   "source": [
    "clf_rf_1 = RandomForestClassifier(bootstrap=False,max_depth=None,max_features='auto',random_state=0,\n",
    "                                  min_samples_leaf=4,min_samples_split=15,n_jobs=-1,n_estimators=300)\n",
    "clf_rf_1.fit(X_train,y_train)\n",
    "print(classification_report(y_test,clf_rf_1.predict(X_test)))\n",
    "print(confusion_matrix(y_test,clf_rf_1.predict(X_test)))"
   ]
  },
  {
   "cell_type": "code",
   "execution_count": 48,
   "id": "2e6003f2",
   "metadata": {
    "execution": {
     "iopub.execute_input": "2022-07-28T12:36:26.256662Z",
     "iopub.status.busy": "2022-07-28T12:36:26.256091Z",
     "iopub.status.idle": "2022-07-28T12:36:26.320112Z",
     "shell.execute_reply": "2022-07-28T12:36:26.318612Z"
    },
    "papermill": {
     "duration": 0.084067,
     "end_time": "2022-07-28T12:36:26.322147",
     "exception": false,
     "start_time": "2022-07-28T12:36:26.238080",
     "status": "completed"
    },
    "tags": []
   },
   "outputs": [
    {
     "name": "stdout",
     "output_type": "stream",
     "text": [
      "              precision    recall  f1-score   support\n",
      "\n",
      "           0       0.86      0.92      0.89       141\n",
      "           1       0.85      0.74      0.79        82\n",
      "\n",
      "    accuracy                           0.86       223\n",
      "   macro avg       0.85      0.83      0.84       223\n",
      "weighted avg       0.86      0.86      0.85       223\n",
      "\n",
      "[[130  11]\n",
      " [ 21  61]]\n"
     ]
    }
   ],
   "source": [
    "print(classification_report(y_test,grid_search_rf.best_estimator_.predict(X_test)))\n",
    "print(confusion_matrix(y_test,grid_search_rf.best_estimator_.predict(X_test)))"
   ]
  },
  {
   "cell_type": "code",
   "execution_count": 49,
   "id": "0c655ca5",
   "metadata": {
    "execution": {
     "iopub.execute_input": "2022-07-28T12:36:26.357059Z",
     "iopub.status.busy": "2022-07-28T12:36:26.356659Z",
     "iopub.status.idle": "2022-07-28T12:36:27.007137Z",
     "shell.execute_reply": "2022-07-28T12:36:27.006299Z"
    },
    "papermill": {
     "duration": 0.670514,
     "end_time": "2022-07-28T12:36:27.009348",
     "exception": false,
     "start_time": "2022-07-28T12:36:26.338834",
     "status": "completed"
    },
    "tags": []
   },
   "outputs": [
    {
     "data": {
      "text/plain": [
       "RandomForestClassifier(bootstrap=False, min_samples_leaf=4,\n",
       "                       min_samples_split=15, n_estimators=300, n_jobs=-1,\n",
       "                       random_state=0)"
      ]
     },
     "execution_count": 49,
     "metadata": {},
     "output_type": "execute_result"
    }
   ],
   "source": [
    "y = train_data['Survived']\n",
    "X = pd.get_dummies(train_data[features])\n",
    "X_test = pd.get_dummies(test_data[features])\n",
    "\n",
    "clf_rf_1.fit(X,y)"
   ]
  },
  {
   "cell_type": "code",
   "execution_count": 50,
   "id": "04da724f",
   "metadata": {
    "execution": {
     "iopub.execute_input": "2022-07-28T12:36:27.046694Z",
     "iopub.status.busy": "2022-07-28T12:36:27.045772Z",
     "iopub.status.idle": "2022-07-28T12:36:27.058551Z",
     "shell.execute_reply": "2022-07-28T12:36:27.057607Z"
    },
    "papermill": {
     "duration": 0.033659,
     "end_time": "2022-07-28T12:36:27.060943",
     "exception": false,
     "start_time": "2022-07-28T12:36:27.027284",
     "status": "completed"
    },
    "tags": []
   },
   "outputs": [],
   "source": [
    "predictions = clf.predict(X_test)\n",
    "\n",
    "output = pd.DataFrame({'PassengerId': test_data.PassengerId , 'Survived': predictions})\n",
    "output.to_csv('submission.csv', index=False)"
   ]
  },
  {
   "cell_type": "code",
   "execution_count": null,
   "id": "2ffbc06a",
   "metadata": {
    "papermill": {
     "duration": 0.017668,
     "end_time": "2022-07-28T12:36:27.096464",
     "exception": false,
     "start_time": "2022-07-28T12:36:27.078796",
     "status": "completed"
    },
    "tags": []
   },
   "outputs": [],
   "source": []
  }
 ],
 "metadata": {
  "kernelspec": {
   "display_name": "Python 3",
   "language": "python",
   "name": "python3"
  },
  "language_info": {
   "codemirror_mode": {
    "name": "ipython",
    "version": 3
   },
   "file_extension": ".py",
   "mimetype": "text/x-python",
   "name": "python",
   "nbconvert_exporter": "python",
   "pygments_lexer": "ipython3",
   "version": "3.7.12"
  },
  "papermill": {
   "default_parameters": {},
   "duration": 1365.55064,
   "end_time": "2022-07-28T12:36:29.737598",
   "environment_variables": {},
   "exception": null,
   "input_path": "__notebook__.ipynb",
   "output_path": "__notebook__.ipynb",
   "parameters": {},
   "start_time": "2022-07-28T12:13:44.186958",
   "version": "2.3.4"
  }
 },
 "nbformat": 4,
 "nbformat_minor": 5
}
